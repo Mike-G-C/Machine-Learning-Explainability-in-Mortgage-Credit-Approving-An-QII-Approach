{
 "cells": [
  {
   "cell_type": "markdown",
   "metadata": {
    "collapsed": true,
    "pycharm": {
     "name": "#%% md\n"
    }
   },
   "source": [
    "<h1 style=\"text-align: center;\"> Final Project </h1>\n",
    "<p style=\"text-align: center;\"> <strong> Yichen Gong, Yihan Xu, Frank Zhao</strong></p>"
   ]
  },
  {
   "cell_type": "markdown",
   "metadata": {
    "pycharm": {
     "name": "#%% md\n"
    }
   },
   "source": [
    "## I. Dataset\n",
    "### (a). Dataset Introduction\n",
    "We are using the [Home Mortgage Disclosure Act (HMDA)](https://www.consumerfinance.gov/data-research/hmda/) dataset of the Consumer Financial Protection Bureau (CFPB) to study upon which conditions a mortgage request is approved or rejected. Our research focuses on the dataset between 2018 and 2019, which can be downloaded from [FFEIC](https://ffiec.cfpb.gov/data-publication/)."
   ]
  },
  {
   "cell_type": "markdown",
   "metadata": {
    "pycharm": {
     "name": "#%% md\n"
    }
   },
   "source": [
    "### (b). Dataset Summary Statistics and Preprocessing\n",
    "#### (1). load data from disk"
   ]
  },
  {
   "cell_type": "code",
   "execution_count": 29,
   "metadata": {
    "pycharm": {
     "name": "#%%\n"
    }
   },
   "outputs": [],
   "source": [
    "import matplotlib.pyplot as plt\n",
    "import pandas as pd\n",
    "import numpy as np\n",
    "pd.options.display.max_rows = 70\n",
    "df = pd.read_csv(\"lar_10.csv\", delimiter = \",\", dtype = {\"activity_year\": \"object\", \"action_taken\":\"object\", \"preapproval\":\"object\", \"loan_type\":\"object\", \"loan_purpose\":\"object\",\"hoepa_status  \":\"object\",\"activity_year\":\"object\"} )"
   ]
  },
  {
   "cell_type": "markdown",
   "metadata": {
    "pycharm": {
     "name": "#%% md\n"
    }
   },
   "source": [
    "#### (2). Summary data statistics and pick features/observations of interest"
   ]
  },
  {
   "cell_type": "code",
   "execution_count": 2,
   "metadata": {
    "pycharm": {
     "name": "#%%\n"
    }
   },
   "outputs": [
    {
     "data": {
      "text/html": [
       "<div>\n",
       "<style scoped>\n",
       "    .dataframe tbody tr th:only-of-type {\n",
       "        vertical-align: middle;\n",
       "    }\n",
       "\n",
       "    .dataframe tbody tr th {\n",
       "        vertical-align: top;\n",
       "    }\n",
       "\n",
       "    .dataframe thead th {\n",
       "        text-align: right;\n",
       "    }\n",
       "</style>\n",
       "<table border=\"1\" class=\"dataframe\">\n",
       "  <thead>\n",
       "    <tr style=\"text-align: right;\">\n",
       "      <th></th>\n",
       "      <th>Unnamed: 0</th>\n",
       "      <th>derived_msa_md</th>\n",
       "      <th>purchaser_type</th>\n",
       "      <th>lien_status</th>\n",
       "      <th>reverse_mortgage</th>\n",
       "      <th>open_end_line_of_credit</th>\n",
       "      <th>business_or_commercial_purpose</th>\n",
       "      <th>loan_amount</th>\n",
       "      <th>hoepa_status</th>\n",
       "      <th>negative_amortization</th>\n",
       "      <th>...</th>\n",
       "      <th>denial_reason_2</th>\n",
       "      <th>denial_reason_3</th>\n",
       "      <th>denial_reason_4</th>\n",
       "      <th>tract_population</th>\n",
       "      <th>tract_minority_population_percen</th>\n",
       "      <th>ffiec_msa_md_median_family_incom</th>\n",
       "      <th>tract_to_msa_income_percentage</th>\n",
       "      <th>tract_owner_occupied_units</th>\n",
       "      <th>tract_one_to_four_family_homes</th>\n",
       "      <th>tract_median_age_of_housing_unit</th>\n",
       "    </tr>\n",
       "  </thead>\n",
       "  <tbody>\n",
       "    <tr>\n",
       "      <th>count</th>\n",
       "      <td>1.689568e+06</td>\n",
       "      <td>1.689568e+06</td>\n",
       "      <td>1.689568e+06</td>\n",
       "      <td>1.689568e+06</td>\n",
       "      <td>1.689568e+06</td>\n",
       "      <td>1.689568e+06</td>\n",
       "      <td>1.689568e+06</td>\n",
       "      <td>1.689568e+06</td>\n",
       "      <td>1.689568e+06</td>\n",
       "      <td>1.689568e+06</td>\n",
       "      <td>...</td>\n",
       "      <td>67868.000000</td>\n",
       "      <td>12077.000000</td>\n",
       "      <td>1211.000000</td>\n",
       "      <td>1.689568e+06</td>\n",
       "      <td>1.689568e+06</td>\n",
       "      <td>1.689568e+06</td>\n",
       "      <td>1.689568e+06</td>\n",
       "      <td>1.689568e+06</td>\n",
       "      <td>1.689568e+06</td>\n",
       "      <td>1.689568e+06</td>\n",
       "    </tr>\n",
       "    <tr>\n",
       "      <th>mean</th>\n",
       "      <td>8.447835e+05</td>\n",
       "      <td>3.683390e+04</td>\n",
       "      <td>5.257184e+00</td>\n",
       "      <td>1.143089e+00</td>\n",
       "      <td>3.173110e+01</td>\n",
       "      <td>3.119922e+01</td>\n",
       "      <td>3.147323e+01</td>\n",
       "      <td>2.413841e+05</td>\n",
       "      <td>2.431189e+00</td>\n",
       "      <td>3.206510e+01</td>\n",
       "      <td>...</td>\n",
       "      <td>4.116137</td>\n",
       "      <td>4.721620</td>\n",
       "      <td>4.596201</td>\n",
       "      <td>5.549739e+03</td>\n",
       "      <td>3.129275e+01</td>\n",
       "      <td>7.365712e+04</td>\n",
       "      <td>1.107751e+02</td>\n",
       "      <td>1.427816e+03</td>\n",
       "      <td>1.949313e+03</td>\n",
       "      <td>3.488797e+01</td>\n",
       "    </tr>\n",
       "    <tr>\n",
       "      <th>std</th>\n",
       "      <td>4.877364e+05</td>\n",
       "      <td>2.426175e+04</td>\n",
       "      <td>1.644296e+01</td>\n",
       "      <td>3.511507e-01</td>\n",
       "      <td>1.791502e+02</td>\n",
       "      <td>1.780380e+02</td>\n",
       "      <td>1.784724e+02</td>\n",
       "      <td>9.011438e+05</td>\n",
       "      <td>4.976853e-01</td>\n",
       "      <td>1.801097e+02</td>\n",
       "      <td>...</td>\n",
       "      <td>2.668994</td>\n",
       "      <td>2.773378</td>\n",
       "      <td>3.491376</td>\n",
       "      <td>3.233306e+03</td>\n",
       "      <td>2.616027e+01</td>\n",
       "      <td>1.945617e+04</td>\n",
       "      <td>4.482474e+01</td>\n",
       "      <td>9.023557e+02</td>\n",
       "      <td>1.129251e+03</td>\n",
       "      <td>1.841395e+01</td>\n",
       "    </tr>\n",
       "    <tr>\n",
       "      <th>min</th>\n",
       "      <td>0.000000e+00</td>\n",
       "      <td>0.000000e+00</td>\n",
       "      <td>-1.000000e+00</td>\n",
       "      <td>-1.000000e+00</td>\n",
       "      <td>-1.000000e+00</td>\n",
       "      <td>-1.000000e+00</td>\n",
       "      <td>-1.000000e+00</td>\n",
       "      <td>5.000000e+03</td>\n",
       "      <td>-1.000000e+00</td>\n",
       "      <td>-1.000000e+00</td>\n",
       "      <td>...</td>\n",
       "      <td>-1.000000</td>\n",
       "      <td>-1.000000</td>\n",
       "      <td>-1.000000</td>\n",
       "      <td>0.000000e+00</td>\n",
       "      <td>0.000000e+00</td>\n",
       "      <td>0.000000e+00</td>\n",
       "      <td>0.000000e+00</td>\n",
       "      <td>0.000000e+00</td>\n",
       "      <td>0.000000e+00</td>\n",
       "      <td>-1.000000e+00</td>\n",
       "    </tr>\n",
       "    <tr>\n",
       "      <th>25%</th>\n",
       "      <td>4.223918e+05</td>\n",
       "      <td>1.974000e+04</td>\n",
       "      <td>0.000000e+00</td>\n",
       "      <td>1.000000e+00</td>\n",
       "      <td>2.000000e+00</td>\n",
       "      <td>2.000000e+00</td>\n",
       "      <td>2.000000e+00</td>\n",
       "      <td>9.500000e+04</td>\n",
       "      <td>2.000000e+00</td>\n",
       "      <td>2.000000e+00</td>\n",
       "      <td>...</td>\n",
       "      <td>2.000000</td>\n",
       "      <td>3.000000</td>\n",
       "      <td>1.000000</td>\n",
       "      <td>3.729000e+03</td>\n",
       "      <td>1.051000e+01</td>\n",
       "      <td>6.420000e+04</td>\n",
       "      <td>8.500000e+01</td>\n",
       "      <td>8.930000e+02</td>\n",
       "      <td>1.297000e+03</td>\n",
       "      <td>2.100000e+01</td>\n",
       "    </tr>\n",
       "    <tr>\n",
       "      <th>50%</th>\n",
       "      <td>8.447835e+05</td>\n",
       "      <td>3.387400e+04</td>\n",
       "      <td>0.000000e+00</td>\n",
       "      <td>1.000000e+00</td>\n",
       "      <td>2.000000e+00</td>\n",
       "      <td>2.000000e+00</td>\n",
       "      <td>2.000000e+00</td>\n",
       "      <td>1.750000e+05</td>\n",
       "      <td>2.000000e+00</td>\n",
       "      <td>2.000000e+00</td>\n",
       "      <td>...</td>\n",
       "      <td>3.000000</td>\n",
       "      <td>4.000000</td>\n",
       "      <td>5.000000</td>\n",
       "      <td>5.078000e+03</td>\n",
       "      <td>2.315000e+01</td>\n",
       "      <td>7.380000e+04</td>\n",
       "      <td>1.070000e+02</td>\n",
       "      <td>1.303000e+03</td>\n",
       "      <td>1.790000e+03</td>\n",
       "      <td>3.300000e+01</td>\n",
       "    </tr>\n",
       "    <tr>\n",
       "      <th>75%</th>\n",
       "      <td>1.267175e+06</td>\n",
       "      <td>4.174000e+04</td>\n",
       "      <td>2.000000e+00</td>\n",
       "      <td>1.000000e+00</td>\n",
       "      <td>2.000000e+00</td>\n",
       "      <td>2.000000e+00</td>\n",
       "      <td>2.000000e+00</td>\n",
       "      <td>2.850000e+05</td>\n",
       "      <td>3.000000e+00</td>\n",
       "      <td>2.000000e+00</td>\n",
       "      <td>...</td>\n",
       "      <td>6.000000</td>\n",
       "      <td>7.000000</td>\n",
       "      <td>7.000000</td>\n",
       "      <td>6.707000e+03</td>\n",
       "      <td>4.600000e+01</td>\n",
       "      <td>8.180000e+04</td>\n",
       "      <td>1.330000e+02</td>\n",
       "      <td>1.795000e+03</td>\n",
       "      <td>2.397000e+03</td>\n",
       "      <td>4.700000e+01</td>\n",
       "    </tr>\n",
       "    <tr>\n",
       "      <th>max</th>\n",
       "      <td>1.689567e+06</td>\n",
       "      <td>9.999900e+04</td>\n",
       "      <td>7.200000e+01</td>\n",
       "      <td>2.000000e+00</td>\n",
       "      <td>1.111000e+03</td>\n",
       "      <td>1.111000e+03</td>\n",
       "      <td>1.111000e+03</td>\n",
       "      <td>3.100050e+08</td>\n",
       "      <td>3.000000e+00</td>\n",
       "      <td>1.111000e+03</td>\n",
       "      <td>...</td>\n",
       "      <td>9.000000</td>\n",
       "      <td>9.000000</td>\n",
       "      <td>9.000000</td>\n",
       "      <td>5.381200e+04</td>\n",
       "      <td>1.000000e+02</td>\n",
       "      <td>1.510000e+05</td>\n",
       "      <td>5.070000e+02</td>\n",
       "      <td>1.952900e+04</td>\n",
       "      <td>2.539100e+04</td>\n",
       "      <td>7.600000e+01</td>\n",
       "    </tr>\n",
       "  </tbody>\n",
       "</table>\n",
       "<p>8 rows × 66 columns</p>\n",
       "</div>"
      ],
      "text/plain": [
       "         Unnamed: 0  derived_msa_md  purchaser_type   lien_status  \\\n",
       "count  1.689568e+06    1.689568e+06    1.689568e+06  1.689568e+06   \n",
       "mean   8.447835e+05    3.683390e+04    5.257184e+00  1.143089e+00   \n",
       "std    4.877364e+05    2.426175e+04    1.644296e+01  3.511507e-01   \n",
       "min    0.000000e+00    0.000000e+00   -1.000000e+00 -1.000000e+00   \n",
       "25%    4.223918e+05    1.974000e+04    0.000000e+00  1.000000e+00   \n",
       "50%    8.447835e+05    3.387400e+04    0.000000e+00  1.000000e+00   \n",
       "75%    1.267175e+06    4.174000e+04    2.000000e+00  1.000000e+00   \n",
       "max    1.689567e+06    9.999900e+04    7.200000e+01  2.000000e+00   \n",
       "\n",
       "       reverse_mortgage  open_end_line_of_credit  \\\n",
       "count      1.689568e+06             1.689568e+06   \n",
       "mean       3.173110e+01             3.119922e+01   \n",
       "std        1.791502e+02             1.780380e+02   \n",
       "min       -1.000000e+00            -1.000000e+00   \n",
       "25%        2.000000e+00             2.000000e+00   \n",
       "50%        2.000000e+00             2.000000e+00   \n",
       "75%        2.000000e+00             2.000000e+00   \n",
       "max        1.111000e+03             1.111000e+03   \n",
       "\n",
       "       business_or_commercial_purpose   loan_amount  hoepa_status  \\\n",
       "count                    1.689568e+06  1.689568e+06  1.689568e+06   \n",
       "mean                     3.147323e+01  2.413841e+05  2.431189e+00   \n",
       "std                      1.784724e+02  9.011438e+05  4.976853e-01   \n",
       "min                     -1.000000e+00  5.000000e+03 -1.000000e+00   \n",
       "25%                      2.000000e+00  9.500000e+04  2.000000e+00   \n",
       "50%                      2.000000e+00  1.750000e+05  2.000000e+00   \n",
       "75%                      2.000000e+00  2.850000e+05  3.000000e+00   \n",
       "max                      1.111000e+03  3.100050e+08  3.000000e+00   \n",
       "\n",
       "       negative_amortization  ...  denial_reason_2  denial_reason_3  \\\n",
       "count           1.689568e+06  ...     67868.000000     12077.000000   \n",
       "mean            3.206510e+01  ...         4.116137         4.721620   \n",
       "std             1.801097e+02  ...         2.668994         2.773378   \n",
       "min            -1.000000e+00  ...        -1.000000        -1.000000   \n",
       "25%             2.000000e+00  ...         2.000000         3.000000   \n",
       "50%             2.000000e+00  ...         3.000000         4.000000   \n",
       "75%             2.000000e+00  ...         6.000000         7.000000   \n",
       "max             1.111000e+03  ...         9.000000         9.000000   \n",
       "\n",
       "       denial_reason_4  tract_population  tract_minority_population_percen  \\\n",
       "count      1211.000000      1.689568e+06                      1.689568e+06   \n",
       "mean          4.596201      5.549739e+03                      3.129275e+01   \n",
       "std           3.491376      3.233306e+03                      2.616027e+01   \n",
       "min          -1.000000      0.000000e+00                      0.000000e+00   \n",
       "25%           1.000000      3.729000e+03                      1.051000e+01   \n",
       "50%           5.000000      5.078000e+03                      2.315000e+01   \n",
       "75%           7.000000      6.707000e+03                      4.600000e+01   \n",
       "max           9.000000      5.381200e+04                      1.000000e+02   \n",
       "\n",
       "       ffiec_msa_md_median_family_incom  tract_to_msa_income_percentage  \\\n",
       "count                      1.689568e+06                    1.689568e+06   \n",
       "mean                       7.365712e+04                    1.107751e+02   \n",
       "std                        1.945617e+04                    4.482474e+01   \n",
       "min                        0.000000e+00                    0.000000e+00   \n",
       "25%                        6.420000e+04                    8.500000e+01   \n",
       "50%                        7.380000e+04                    1.070000e+02   \n",
       "75%                        8.180000e+04                    1.330000e+02   \n",
       "max                        1.510000e+05                    5.070000e+02   \n",
       "\n",
       "       tract_owner_occupied_units  tract_one_to_four_family_homes  \\\n",
       "count                1.689568e+06                    1.689568e+06   \n",
       "mean                 1.427816e+03                    1.949313e+03   \n",
       "std                  9.023557e+02                    1.129251e+03   \n",
       "min                  0.000000e+00                    0.000000e+00   \n",
       "25%                  8.930000e+02                    1.297000e+03   \n",
       "50%                  1.303000e+03                    1.790000e+03   \n",
       "75%                  1.795000e+03                    2.397000e+03   \n",
       "max                  1.952900e+04                    2.539100e+04   \n",
       "\n",
       "       tract_median_age_of_housing_unit  \n",
       "count                      1.689568e+06  \n",
       "mean                       3.488797e+01  \n",
       "std                        1.841395e+01  \n",
       "min                       -1.000000e+00  \n",
       "25%                        2.100000e+01  \n",
       "50%                        3.300000e+01  \n",
       "75%                        4.700000e+01  \n",
       "max                        7.600000e+01  \n",
       "\n",
       "[8 rows x 66 columns]"
      ]
     },
     "execution_count": 2,
     "metadata": {},
     "output_type": "execute_result"
    }
   ],
   "source": [
    "df.describe()"
   ]
  },
  {
   "cell_type": "code",
   "execution_count": 4,
   "metadata": {
    "pycharm": {
     "name": "#%%\n"
    }
   },
   "outputs": [],
   "source": [
    "df_Selected = df[[\"activity_year\",\"derived_ethnicity\", \"derived_race\", \"derived_sex\", \"action_taken\",\n",
    "                            \"preapproval\",\"loan_type\", \"loan_purpose\", \"lien_status\", \"reverse_mortgage\",\n",
    "                            \"open_end_line_of_credit\", \"business_or_commercial_purpose\", \"combined_loan_to_value_ratio\",\n",
    "                            \"property_value\", \"construction_method\", \"occupancy_type\", \"total_units\",\n",
    "                            \"income\", \"debt_to_income_ratio\", \"applicant_age\", \"submission_of_application\"\n",
    "                            ]]\n",
    "df_Selected = df_Selected[df_Selected[\"action_taken\"].isin((\"1\", \"3\"))]\n",
    "df_Selected = df_Selected[df_Selected[\"derived_ethnicity\"] != \"Free Form Text Only\"]\n",
    "df_Selected = df_Selected[df_Selected[\"derived_race\"] != \"Free Form Text Only\"]\n",
    "df_Selected = df_Selected[df_Selected[\"derived_sex\"] != \"Sex Not Available\"]\n",
    "df_Selected = df_Selected[df_Selected[\"derived_ethnicity\"] != \"Ethnicity Not Available\"]\n",
    "\n",
    "# 5 means Loan Purpose not applicable\n",
    "df_Selected = df_Selected[df_Selected[\"loan_purpose\"] != \"5\"]\n",
    "# 1111 means the feature is not applicable\n",
    "df_Selected = df_Selected[df_Selected[\"reverse_mortgage\"] != 1111]\n",
    "df_Selected = df_Selected[df_Selected[\"open_end_line_of_credit\"] != 1111]\n",
    "df_Selected = df_Selected[df_Selected[\"business_or_commercial_purpose\"] != 1111]\n",
    "df_Selected = df_Selected[df_Selected[\"submission_of_application\"] != 1111]\n",
    "df_Selected = df_Selected[df_Selected[\"property_value\"] != \"Exempt\"]\n",
    "df_Selected = df_Selected[df_Selected[\"construction_method\"] != \"Free Form Text Only\"]\n",
    "df_Selected = df_Selected[df_Selected[\"income\"] != \"Free Form Text Only\"]\n",
    "df_Selected = df_Selected[df_Selected[\"income\"] != \"Exempt\"]\n",
    "df_Selected = df_Selected[df_Selected[\"debt_to_income_ratio\"] != \"Exempt\"]\n",
    "# 8888, 9999 means age is not applicable\n",
    "df_Selected = df_Selected[df_Selected[\"applicant_age\"] != '8888']\n",
    "df_Selected = df_Selected[df_Selected[\"applicant_age\"] != '9999']\n",
    "df_Selected =df_Selected[df_Selected[\"combined_loan_to_value_ratio\"] != \"Exempt\"]\n",
    "df_Selected[\"lien_status\"] = df_Selected[\"lien_status\"].astype(object)\n",
    "df_Selected[\"reverse_mortgage\"] = df_Selected[\"reverse_mortgage\"].astype(object)\n",
    "df_Selected[\"open_end_line_of_credit\"] = df_Selected[\"open_end_line_of_credit\"].astype(object)\n",
    "df_Selected[\"business_or_commercial_purpose\"] = df_Selected[\"business_or_commercial_purpose\"].astype(object)\n",
    "df_Selected[\"submission_of_application\"] = df_Selected[\"submission_of_application\"].astype(object)\n",
    "df_Selected[\"occupancy_type\"] = df_Selected[\"occupancy_type\"].astype(object)\n",
    "df_Selected[\"construction_method\"] = df_Selected[\"construction_method\"].astype(object)\n",
    "df_Selected[\"combined_loan_to_value_ratio\"] = df_Selected[\"combined_loan_to_value_ratio\"].astype(float)\n",
    "df_Selected[\"property_value\"] = df_Selected[\"property_value\"].astype(float)\n",
    "df_Selected = pd.get_dummies(df_Selected)\n",
    "df_2019_Selected = df_Selected[df_Selected[\"activity_year_2019\"] == 1]\n",
    "df_2018_Selected = df_Selected[df_Selected[\"activity_year_2018\"] == 1]\n",
    "df_2019_Selected = df_2019_Selected.drop(columns = [\"activity_year_2019\", \"activity_year_2018\"])\n",
    "df_2018_Selected = df_2018_Selected.drop(columns = [\"activity_year_2019\", \"activity_year_2018\"])"
   ]
  },
  {
   "cell_type": "code",
   "execution_count": 6,
   "metadata": {
    "pycharm": {
     "name": "#%%\n"
    }
   },
   "outputs": [
    {
     "data": {
      "text/html": [
       "<div>\n",
       "<style scoped>\n",
       "    .dataframe tbody tr th:only-of-type {\n",
       "        vertical-align: middle;\n",
       "    }\n",
       "\n",
       "    .dataframe tbody tr th {\n",
       "        vertical-align: top;\n",
       "    }\n",
       "\n",
       "    .dataframe thead th {\n",
       "        text-align: right;\n",
       "    }\n",
       "</style>\n",
       "<table border=\"1\" class=\"dataframe\">\n",
       "  <thead>\n",
       "    <tr style=\"text-align: right;\">\n",
       "      <th></th>\n",
       "      <th>combined_loan_to_value_ratio</th>\n",
       "      <th>property_value</th>\n",
       "      <th>income</th>\n",
       "      <th>derived_ethnicity_Hispanic or Latino</th>\n",
       "      <th>derived_ethnicity_Joint</th>\n",
       "      <th>derived_ethnicity_Not Hispanic or Latino</th>\n",
       "      <th>derived_race_2 or more minority races</th>\n",
       "      <th>derived_race_American Indian or Alaska Native</th>\n",
       "      <th>derived_race_Asian</th>\n",
       "      <th>derived_race_Black or African American</th>\n",
       "      <th>...</th>\n",
       "      <th>debt_to_income_ratio_&gt;60%</th>\n",
       "      <th>applicant_age_25-34</th>\n",
       "      <th>applicant_age_35-44</th>\n",
       "      <th>applicant_age_45-54</th>\n",
       "      <th>applicant_age_55-64</th>\n",
       "      <th>applicant_age_65-74</th>\n",
       "      <th>applicant_age_&lt;25</th>\n",
       "      <th>applicant_age_&gt;74</th>\n",
       "      <th>submission_of_application_1</th>\n",
       "      <th>submission_of_application_2</th>\n",
       "    </tr>\n",
       "  </thead>\n",
       "  <tbody>\n",
       "    <tr>\n",
       "      <th>1513977</th>\n",
       "      <td>44.666</td>\n",
       "      <td>365000.0</td>\n",
       "      <td>94.0</td>\n",
       "      <td>0</td>\n",
       "      <td>0</td>\n",
       "      <td>1</td>\n",
       "      <td>0</td>\n",
       "      <td>0</td>\n",
       "      <td>0</td>\n",
       "      <td>0</td>\n",
       "      <td>...</td>\n",
       "      <td>0</td>\n",
       "      <td>0</td>\n",
       "      <td>0</td>\n",
       "      <td>0</td>\n",
       "      <td>0</td>\n",
       "      <td>1</td>\n",
       "      <td>0</td>\n",
       "      <td>0</td>\n",
       "      <td>1</td>\n",
       "      <td>0</td>\n",
       "    </tr>\n",
       "    <tr>\n",
       "      <th>1513980</th>\n",
       "      <td>97.177</td>\n",
       "      <td>145000.0</td>\n",
       "      <td>40.0</td>\n",
       "      <td>0</td>\n",
       "      <td>0</td>\n",
       "      <td>1</td>\n",
       "      <td>0</td>\n",
       "      <td>0</td>\n",
       "      <td>0</td>\n",
       "      <td>0</td>\n",
       "      <td>...</td>\n",
       "      <td>0</td>\n",
       "      <td>0</td>\n",
       "      <td>0</td>\n",
       "      <td>0</td>\n",
       "      <td>1</td>\n",
       "      <td>0</td>\n",
       "      <td>0</td>\n",
       "      <td>0</td>\n",
       "      <td>1</td>\n",
       "      <td>0</td>\n",
       "    </tr>\n",
       "    <tr>\n",
       "      <th>1513981</th>\n",
       "      <td>103.860</td>\n",
       "      <td>375000.0</td>\n",
       "      <td>190.0</td>\n",
       "      <td>0</td>\n",
       "      <td>0</td>\n",
       "      <td>1</td>\n",
       "      <td>0</td>\n",
       "      <td>0</td>\n",
       "      <td>0</td>\n",
       "      <td>0</td>\n",
       "      <td>...</td>\n",
       "      <td>1</td>\n",
       "      <td>0</td>\n",
       "      <td>0</td>\n",
       "      <td>1</td>\n",
       "      <td>0</td>\n",
       "      <td>0</td>\n",
       "      <td>0</td>\n",
       "      <td>0</td>\n",
       "      <td>1</td>\n",
       "      <td>0</td>\n",
       "    </tr>\n",
       "    <tr>\n",
       "      <th>1513986</th>\n",
       "      <td>71.429</td>\n",
       "      <td>245000.0</td>\n",
       "      <td>173.0</td>\n",
       "      <td>0</td>\n",
       "      <td>0</td>\n",
       "      <td>1</td>\n",
       "      <td>0</td>\n",
       "      <td>0</td>\n",
       "      <td>0</td>\n",
       "      <td>0</td>\n",
       "      <td>...</td>\n",
       "      <td>0</td>\n",
       "      <td>0</td>\n",
       "      <td>0</td>\n",
       "      <td>1</td>\n",
       "      <td>0</td>\n",
       "      <td>0</td>\n",
       "      <td>0</td>\n",
       "      <td>0</td>\n",
       "      <td>1</td>\n",
       "      <td>0</td>\n",
       "    </tr>\n",
       "    <tr>\n",
       "      <th>1513990</th>\n",
       "      <td>98.886</td>\n",
       "      <td>145000.0</td>\n",
       "      <td>50.0</td>\n",
       "      <td>0</td>\n",
       "      <td>0</td>\n",
       "      <td>1</td>\n",
       "      <td>0</td>\n",
       "      <td>0</td>\n",
       "      <td>0</td>\n",
       "      <td>0</td>\n",
       "      <td>...</td>\n",
       "      <td>1</td>\n",
       "      <td>0</td>\n",
       "      <td>1</td>\n",
       "      <td>0</td>\n",
       "      <td>0</td>\n",
       "      <td>0</td>\n",
       "      <td>0</td>\n",
       "      <td>0</td>\n",
       "      <td>1</td>\n",
       "      <td>0</td>\n",
       "    </tr>\n",
       "    <tr>\n",
       "      <th>...</th>\n",
       "      <td>...</td>\n",
       "      <td>...</td>\n",
       "      <td>...</td>\n",
       "      <td>...</td>\n",
       "      <td>...</td>\n",
       "      <td>...</td>\n",
       "      <td>...</td>\n",
       "      <td>...</td>\n",
       "      <td>...</td>\n",
       "      <td>...</td>\n",
       "      <td>...</td>\n",
       "      <td>...</td>\n",
       "      <td>...</td>\n",
       "      <td>...</td>\n",
       "      <td>...</td>\n",
       "      <td>...</td>\n",
       "      <td>...</td>\n",
       "      <td>...</td>\n",
       "      <td>...</td>\n",
       "      <td>...</td>\n",
       "      <td>...</td>\n",
       "    </tr>\n",
       "    <tr>\n",
       "      <th>1689560</th>\n",
       "      <td>94.258</td>\n",
       "      <td>205000.0</td>\n",
       "      <td>179.0</td>\n",
       "      <td>0</td>\n",
       "      <td>0</td>\n",
       "      <td>1</td>\n",
       "      <td>0</td>\n",
       "      <td>0</td>\n",
       "      <td>0</td>\n",
       "      <td>0</td>\n",
       "      <td>...</td>\n",
       "      <td>0</td>\n",
       "      <td>0</td>\n",
       "      <td>0</td>\n",
       "      <td>0</td>\n",
       "      <td>1</td>\n",
       "      <td>0</td>\n",
       "      <td>0</td>\n",
       "      <td>0</td>\n",
       "      <td>1</td>\n",
       "      <td>0</td>\n",
       "    </tr>\n",
       "    <tr>\n",
       "      <th>1689561</th>\n",
       "      <td>75.510</td>\n",
       "      <td>435000.0</td>\n",
       "      <td>90.0</td>\n",
       "      <td>0</td>\n",
       "      <td>0</td>\n",
       "      <td>1</td>\n",
       "      <td>0</td>\n",
       "      <td>0</td>\n",
       "      <td>1</td>\n",
       "      <td>0</td>\n",
       "      <td>...</td>\n",
       "      <td>0</td>\n",
       "      <td>0</td>\n",
       "      <td>1</td>\n",
       "      <td>0</td>\n",
       "      <td>0</td>\n",
       "      <td>0</td>\n",
       "      <td>0</td>\n",
       "      <td>0</td>\n",
       "      <td>0</td>\n",
       "      <td>1</td>\n",
       "    </tr>\n",
       "    <tr>\n",
       "      <th>1689563</th>\n",
       "      <td>89.580</td>\n",
       "      <td>265000.0</td>\n",
       "      <td>95.0</td>\n",
       "      <td>0</td>\n",
       "      <td>0</td>\n",
       "      <td>1</td>\n",
       "      <td>0</td>\n",
       "      <td>0</td>\n",
       "      <td>0</td>\n",
       "      <td>0</td>\n",
       "      <td>...</td>\n",
       "      <td>0</td>\n",
       "      <td>0</td>\n",
       "      <td>0</td>\n",
       "      <td>1</td>\n",
       "      <td>0</td>\n",
       "      <td>0</td>\n",
       "      <td>0</td>\n",
       "      <td>0</td>\n",
       "      <td>1</td>\n",
       "      <td>0</td>\n",
       "    </tr>\n",
       "    <tr>\n",
       "      <th>1689566</th>\n",
       "      <td>90.404</td>\n",
       "      <td>395000.0</td>\n",
       "      <td>0.0</td>\n",
       "      <td>0</td>\n",
       "      <td>0</td>\n",
       "      <td>1</td>\n",
       "      <td>0</td>\n",
       "      <td>0</td>\n",
       "      <td>0</td>\n",
       "      <td>1</td>\n",
       "      <td>...</td>\n",
       "      <td>0</td>\n",
       "      <td>0</td>\n",
       "      <td>0</td>\n",
       "      <td>0</td>\n",
       "      <td>1</td>\n",
       "      <td>0</td>\n",
       "      <td>0</td>\n",
       "      <td>0</td>\n",
       "      <td>1</td>\n",
       "      <td>0</td>\n",
       "    </tr>\n",
       "    <tr>\n",
       "      <th>1689567</th>\n",
       "      <td>69.170</td>\n",
       "      <td>485000.0</td>\n",
       "      <td>66.0</td>\n",
       "      <td>1</td>\n",
       "      <td>0</td>\n",
       "      <td>0</td>\n",
       "      <td>0</td>\n",
       "      <td>0</td>\n",
       "      <td>0</td>\n",
       "      <td>0</td>\n",
       "      <td>...</td>\n",
       "      <td>1</td>\n",
       "      <td>0</td>\n",
       "      <td>0</td>\n",
       "      <td>0</td>\n",
       "      <td>0</td>\n",
       "      <td>1</td>\n",
       "      <td>0</td>\n",
       "      <td>0</td>\n",
       "      <td>1</td>\n",
       "      <td>0</td>\n",
       "    </tr>\n",
       "  </tbody>\n",
       "</table>\n",
       "<p>97142 rows × 81 columns</p>\n",
       "</div>"
      ],
      "text/plain": [
       "         combined_loan_to_value_ratio  property_value  income  \\\n",
       "1513977                        44.666        365000.0    94.0   \n",
       "1513980                        97.177        145000.0    40.0   \n",
       "1513981                       103.860        375000.0   190.0   \n",
       "1513986                        71.429        245000.0   173.0   \n",
       "1513990                        98.886        145000.0    50.0   \n",
       "...                               ...             ...     ...   \n",
       "1689560                        94.258        205000.0   179.0   \n",
       "1689561                        75.510        435000.0    90.0   \n",
       "1689563                        89.580        265000.0    95.0   \n",
       "1689566                        90.404        395000.0     0.0   \n",
       "1689567                        69.170        485000.0    66.0   \n",
       "\n",
       "         derived_ethnicity_Hispanic or Latino  derived_ethnicity_Joint  \\\n",
       "1513977                                     0                        0   \n",
       "1513980                                     0                        0   \n",
       "1513981                                     0                        0   \n",
       "1513986                                     0                        0   \n",
       "1513990                                     0                        0   \n",
       "...                                       ...                      ...   \n",
       "1689560                                     0                        0   \n",
       "1689561                                     0                        0   \n",
       "1689563                                     0                        0   \n",
       "1689566                                     0                        0   \n",
       "1689567                                     1                        0   \n",
       "\n",
       "         derived_ethnicity_Not Hispanic or Latino  \\\n",
       "1513977                                         1   \n",
       "1513980                                         1   \n",
       "1513981                                         1   \n",
       "1513986                                         1   \n",
       "1513990                                         1   \n",
       "...                                           ...   \n",
       "1689560                                         1   \n",
       "1689561                                         1   \n",
       "1689563                                         1   \n",
       "1689566                                         1   \n",
       "1689567                                         0   \n",
       "\n",
       "         derived_race_2 or more minority races  \\\n",
       "1513977                                      0   \n",
       "1513980                                      0   \n",
       "1513981                                      0   \n",
       "1513986                                      0   \n",
       "1513990                                      0   \n",
       "...                                        ...   \n",
       "1689560                                      0   \n",
       "1689561                                      0   \n",
       "1689563                                      0   \n",
       "1689566                                      0   \n",
       "1689567                                      0   \n",
       "\n",
       "         derived_race_American Indian or Alaska Native  derived_race_Asian  \\\n",
       "1513977                                              0                   0   \n",
       "1513980                                              0                   0   \n",
       "1513981                                              0                   0   \n",
       "1513986                                              0                   0   \n",
       "1513990                                              0                   0   \n",
       "...                                                ...                 ...   \n",
       "1689560                                              0                   0   \n",
       "1689561                                              0                   1   \n",
       "1689563                                              0                   0   \n",
       "1689566                                              0                   0   \n",
       "1689567                                              0                   0   \n",
       "\n",
       "         derived_race_Black or African American  ...  \\\n",
       "1513977                                       0  ...   \n",
       "1513980                                       0  ...   \n",
       "1513981                                       0  ...   \n",
       "1513986                                       0  ...   \n",
       "1513990                                       0  ...   \n",
       "...                                         ...  ...   \n",
       "1689560                                       0  ...   \n",
       "1689561                                       0  ...   \n",
       "1689563                                       0  ...   \n",
       "1689566                                       1  ...   \n",
       "1689567                                       0  ...   \n",
       "\n",
       "         debt_to_income_ratio_>60%  applicant_age_25-34  applicant_age_35-44  \\\n",
       "1513977                          0                    0                    0   \n",
       "1513980                          0                    0                    0   \n",
       "1513981                          1                    0                    0   \n",
       "1513986                          0                    0                    0   \n",
       "1513990                          1                    0                    1   \n",
       "...                            ...                  ...                  ...   \n",
       "1689560                          0                    0                    0   \n",
       "1689561                          0                    0                    1   \n",
       "1689563                          0                    0                    0   \n",
       "1689566                          0                    0                    0   \n",
       "1689567                          1                    0                    0   \n",
       "\n",
       "         applicant_age_45-54  applicant_age_55-64  applicant_age_65-74  \\\n",
       "1513977                    0                    0                    1   \n",
       "1513980                    0                    1                    0   \n",
       "1513981                    1                    0                    0   \n",
       "1513986                    1                    0                    0   \n",
       "1513990                    0                    0                    0   \n",
       "...                      ...                  ...                  ...   \n",
       "1689560                    0                    1                    0   \n",
       "1689561                    0                    0                    0   \n",
       "1689563                    1                    0                    0   \n",
       "1689566                    0                    1                    0   \n",
       "1689567                    0                    0                    1   \n",
       "\n",
       "         applicant_age_<25  applicant_age_>74  submission_of_application_1  \\\n",
       "1513977                  0                  0                            1   \n",
       "1513980                  0                  0                            1   \n",
       "1513981                  0                  0                            1   \n",
       "1513986                  0                  0                            1   \n",
       "1513990                  0                  0                            1   \n",
       "...                    ...                ...                          ...   \n",
       "1689560                  0                  0                            1   \n",
       "1689561                  0                  0                            0   \n",
       "1689563                  0                  0                            1   \n",
       "1689566                  0                  0                            1   \n",
       "1689567                  0                  0                            1   \n",
       "\n",
       "         submission_of_application_2  \n",
       "1513977                            0  \n",
       "1513980                            0  \n",
       "1513981                            0  \n",
       "1513986                            0  \n",
       "1513990                            0  \n",
       "...                              ...  \n",
       "1689560                            0  \n",
       "1689561                            1  \n",
       "1689563                            0  \n",
       "1689566                            0  \n",
       "1689567                            0  \n",
       "\n",
       "[97142 rows x 81 columns]"
      ]
     },
     "execution_count": 6,
     "metadata": {},
     "output_type": "execute_result"
    }
   ],
   "source": [
    "df_2019_Selected"
   ]
  },
  {
   "cell_type": "code",
   "execution_count": 7,
   "metadata": {
    "pycharm": {
     "name": "#%%\n"
    }
   },
   "outputs": [],
   "source": [
    "# fill numeric values with mean and drop null values of dummies\n",
    "df_2019_Selected = df_2019_Selected.dropna()\n",
    "df_2019_Selected = pd.get_dummies(df_2019_Selected)"
   ]
  },
  {
   "cell_type": "code",
   "execution_count": 8,
   "metadata": {
    "pycharm": {
     "name": "#%%\n"
    }
   },
   "outputs": [],
   "source": [
    "df_2018_Selected = df_2018_Selected.fillna(df_2018_Selected.mean(numeric_only=True))\n",
    "df_2018_Selected = df_2018_Selected.dropna()\n",
    "df_2018_Selected = pd.get_dummies(df_2018_Selected)"
   ]
  },
  {
   "cell_type": "code",
   "execution_count": 9,
   "metadata": {
    "pycharm": {
     "name": "#%%\n"
    }
   },
   "outputs": [
    {
     "name": "stdout",
     "output_type": "stream",
     "text": [
      "combined_loan_to_value_ratio            0\n",
      "property_value                          0\n",
      "income                                  0\n",
      "derived_ethnicity_Hispanic or Latino    0\n",
      "derived_ethnicity_Joint                 0\n",
      "                                       ..\n",
      "applicant_age_65-74                     0\n",
      "applicant_age_<25                       0\n",
      "applicant_age_>74                       0\n",
      "submission_of_application_1             0\n",
      "submission_of_application_2             0\n",
      "Length: 81, dtype: int64\n",
      "combined_loan_to_value_ratio            0\n",
      "property_value                          0\n",
      "income                                  0\n",
      "derived_ethnicity_Hispanic or Latino    0\n",
      "derived_ethnicity_Joint                 0\n",
      "                                       ..\n",
      "applicant_age_65-74                     0\n",
      "applicant_age_<25                       0\n",
      "applicant_age_>74                       0\n",
      "submission_of_application_1             0\n",
      "submission_of_application_2             0\n",
      "Length: 81, dtype: int64\n"
     ]
    }
   ],
   "source": [
    "# Our dataset should not have null values now.\n",
    "print(df_2019_Selected.isnull().sum())\n",
    "print(df_2018_Selected.isnull().sum())"
   ]
  },
  {
   "cell_type": "code",
   "execution_count": 10,
   "metadata": {
    "pycharm": {
     "name": "#%%\n"
    }
   },
   "outputs": [
    {
     "name": "stdout",
     "output_type": "stream",
     "text": [
      "We currently have 851749 observations for 2018.\n",
      "We currently have 87970 observations for 2019.\n"
     ]
    }
   ],
   "source": [
    "print(f\"We currently have {df_2018_Selected.shape[0]} observations for 2018.\")\n",
    "print(f\"We currently have {df_2019_Selected.shape[0]} observations for 2019.\")"
   ]
  },
  {
   "cell_type": "markdown",
   "metadata": {
    "pycharm": {
     "name": "#%% md\n"
    }
   },
   "source": [
    "## II. Training and Explaining\n",
    "### (a). Split the dataset and normalize input"
   ]
  },
  {
   "cell_type": "code",
   "execution_count": 11,
   "metadata": {
    "pycharm": {
     "name": "#%%\n"
    }
   },
   "outputs": [],
   "source": [
    "from sklearn.model_selection import train_test_split as tr_te_split\n",
    "y_train = df_2018_Selected[\"action_taken_1\"]\n",
    "X_train = df_2018_Selected.drop(columns = [\"action_taken_1\", 'action_taken_3'] )\n",
    "y_test = df_2019_Selected[\"action_taken_1\"]\n",
    "X_test = df_2019_Selected.drop(columns = [\"action_taken_1\", 'action_taken_3'] )\n",
    "ph1, X_test, ph2, y_test = tr_te_split(X_test, y_test, test_size=0.3, random_state=0)\n",
    "del ph1\n",
    "del ph2\n",
    "for col in X_train.columns:\n",
    "    if X_train.dtypes[col] == \"float\":\n",
    "        mean = X_train.mean()[col]\n",
    "        std = X_train.std()[col]\n",
    "        X_train[col] = (X_train[col] - mean) / std\n",
    "        X_test[col] = (X_test[col] - mean) / std\n",
    "import re\n",
    "regex = re.compile(r\"\\[|\\]|<\", re.IGNORECASE)\n",
    "X_train.columns = [regex.sub(\"_\", col) if any(x in str(col) for x in set(('[', ']', '<'))) else col for col in X_train.columns.values]\n",
    "X_test.columns = [regex.sub(\"_\", col) if any(x in str(col) for x in set(('[', ']', '<'))) else col for col in X_test.columns.values]"
   ]
  },
  {
   "cell_type": "code",
   "execution_count": 12,
   "metadata": {
    "pycharm": {
     "name": "#%%\n"
    }
   },
   "outputs": [
    {
     "name": "stdout",
     "output_type": "stream",
     "text": [
      "We currently have 851749 observations for the training set.\n",
      "We currently have 26391 observations for the testing set.\n",
      "We currently have 79 features for the model.\n"
     ]
    }
   ],
   "source": [
    "print(f\"We currently have {X_train.shape[0]} observations for the training set.\")\n",
    "print(f\"We currently have {X_test.shape[0]} observations for the testing set.\")\n",
    "print(f\"We currently have {X_train.shape[1]} features for the model.\")"
   ]
  },
  {
   "cell_type": "markdown",
   "metadata": {
    "pycharm": {
     "name": "#%% md\n"
    }
   },
   "source": [
    "### (b).(1) Train a logistic regression model"
   ]
  },
  {
   "cell_type": "code",
   "execution_count": 23,
   "metadata": {},
   "outputs": [
    {
     "name": "stdout",
     "output_type": "stream",
     "text": [
      "The score of training set is: 0.8540790772868533\n",
      "The score of testing set is: 0.8792770262589519\n"
     ]
    },
    {
     "data": {
      "image/png": "[encoded data removed]",
      "text/plain": [
       "<Figure size 432x288 with 1 Axes>"
      ]
     },
     "metadata": {
      "needs_background": "light"
     },
     "output_type": "display_data"
    },
    {
     "data": {
      "image/png": "[encoded data removed]",
      "text/plain": [
       "<Figure size 432x288 with 1 Axes>"
      ]
     },
     "metadata": {
      "needs_background": "light"
     },
     "output_type": "display_data"
    }
   ],
   "source": [
    "from sklearn.metrics import plot_roc_curve\n",
    "from xgboost.sklearn import XGBClassifier\n",
    "xgb_original = XGBClassifier(eval_metric=['logloss','auc','error'])\n",
    "xgb_original.fit(X_train, y_train)\n",
    "plot_roc_curve(xgb_original, X_train, y_train)\n",
    "print(\"The score of training set is:\", xgb_original.score(X_train, y_train))\n",
    "plot_roc_curve(xgb_original, X_test, y_test)\n",
    "print(\"The score of testing set is:\", xgb_original.score(X_test, y_test))"
   ]
  },
  {
   "cell_type": "markdown",
   "metadata": {
    "pycharm": {
     "name": "#%% md\n"
    }
   },
   "source": [
    "### (b).(2) Explain a logistic regression model"
   ]
  },
  {
   "cell_type": "markdown",
   "metadata": {
    "pycharm": {
     "name": "#%% md\n"
    }
   },
   "source": [
    "### (b).(3) Train a logistic regression model"
   ]
  },
  {
   "cell_type": "code",
   "execution_count": 24,
   "metadata": {
    "pycharm": {
     "name": "#%%\n"
    }
   },
   "outputs": [],
   "source": [
    "from sklearn.model_selection import GridSearchCV\n",
    "from sklearn.model_selection import cross_val_score"
   ]
  },
  {
   "cell_type": "code",
   "execution_count": 25,
   "metadata": {},
   "outputs": [],
   "source": [
    "def plot_grid_search(cv_results, grid_param_1, grid_param_2, name_param_1, name_param_2):\n",
    "    # Get Test Scores Mean and std for each grid search\n",
    "    scores_mean = cv_results['mean_test_score']\n",
    "    scores_mean = np.array(scores_mean).reshape(len(grid_param_2),len(grid_param_1))\n",
    "\n",
    "    scores_sd = cv_results['std_test_score']\n",
    "    scores_sd = np.array(scores_sd).reshape(len(grid_param_2),len(grid_param_1))\n",
    "\n",
    "    # Plot Grid search scores\n",
    "    _, ax = plt.subplots()\n",
    "\n",
    "    # Param1 is the X-axis, Param 2 is represented as a different curve (color line)\n",
    "    for idx, val in enumerate(grid_param_2):\n",
    "        ax.plot(grid_param_1, scores_mean[idx,:], '-o', label= name_param_2 + ': ' + str(val))\n",
    "\n",
    "    ax.set_title(\"Grid Search Scores\", fontsize=16)\n",
    "    ax.set_xlabel(name_param_1, fontsize=16)\n",
    "    ax.set_ylabel('CV Average Score', fontsize=16)\n",
    "    ax.legend(loc=\"best\", fontsize=8)\n",
    "    ax.grid('on')\n",
    "\n"
   ]
  },
  {
   "cell_type": "code",
   "execution_count": null,
   "metadata": {},
   "outputs": [],
   "source": [
    "# We use sklearn.model_selection.GridSearchCV to do grid search.\n",
    "# Since the limitation of computing power, we select 2 parameters every time.\n",
    "# So we can get a relative accurate result in a short time"
   ]
  },
  {
   "cell_type": "code",
   "execution_count": 26,
   "metadata": {},
   "outputs": [
    {
     "name": "stdout",
     "output_type": "stream",
     "text": [
      "{'max_depth': 9, 'min_child_weight': 3}\n",
      "0.8530517788458465\n"
     ]
    }
   ],
   "source": [
    "import warnings\n",
    "warnings.filterwarnings(\"ignore\")\n",
    "param_test1 = {\n",
    "                'max_depth':range(5,11,1),\n",
    "                'min_child_weight':range(1,5,1)\n",
    "                }\n",
    "\n",
    "\n",
    "xgb1 = XGBClassifier(eval_metric=['logloss','auc','error'])\n",
    "GS = GridSearchCV(xgb1,param_test1)\n",
    "GS.fit(X_train,y_train)\n",
    "print(GS.best_params_)\n",
    "print(GS.best_score_)\n",
    "\n"
   ]
  },
  {
   "cell_type": "code",
   "execution_count": 27,
   "metadata": {},
   "outputs": [
    {
     "name": "stdout",
     "output_type": "stream",
     "text": [
      "{'mean_fit_time': array([35.37717772, 38.11959949, 37.99715495, 38.64491668, 45.01500349,\n",
      "       45.44197593, 44.43342524, 44.18396783, 51.48702264, 41.49617467,\n",
      "       33.47429571, 44.96641331, 63.32413015, 65.50593982, 62.64823532,\n",
      "       64.38577151, 77.2170558 , 79.42031159, 71.26882548, 71.79967966,\n",
      "       86.545755  , 81.55857544, 48.262637  , 51.21621814]), 'std_fit_time': array([ 4.55587307,  1.21285238,  0.79596814,  1.26138913,  0.97988509,\n",
      "        1.42859752,  0.76597946,  0.70220727,  0.23904928, 11.60778174,\n",
      "        0.23715248,  9.32370821,  1.1359444 ,  2.53582303,  0.87306105,\n",
      "        1.78881635,  3.07363051,  2.35305821,  1.30224056,  1.68408757,\n",
      "        2.68618158,  1.76540054,  1.61654442,  5.32394963]), 'mean_score_time': array([0.17523851, 0.15063391, 0.15423341, 0.16423635, 0.16643682,\n",
      "       0.17023797, 0.17723866, 0.16243644, 0.1634295 , 0.15115657,\n",
      "       0.133534  , 0.15512128, 0.20118332, 0.18895621, 0.17949247,\n",
      "       0.17867093, 0.2046813 , 0.22074351, 0.20447273, 0.19497981,\n",
      "       0.22665639, 0.22248621, 0.15714188, 0.16362419]), 'std_score_time': array([0.01217499, 0.01330828, 0.01319985, 0.01630562, 0.008802  ,\n",
      "       0.00830608, 0.02402547, 0.01036866, 0.00162657, 0.04260834,\n",
      "       0.00744603, 0.0217641 , 0.0185742 , 0.01447998, 0.00449365,\n",
      "       0.00264566, 0.00805183, 0.02604259, 0.01487608, 0.0054665 ,\n",
      "       0.01909944, 0.04260782, 0.00996424, 0.02458021]), 'param_max_depth': masked_array(data=[5, 5, 5, 5, 6, 6, 6, 6, 7, 7, 7, 7, 8, 8, 8, 8, 9, 9,\n",
      "                   9, 9, 10, 10, 10, 10],\n",
      "             mask=[False, False, False, False, False, False, False, False,\n",
      "                   False, False, False, False, False, False, False, False,\n",
      "                   False, False, False, False, False, False, False, False],\n",
      "       fill_value='?',\n",
      "            dtype=object), 'param_min_child_weight': masked_array(data=[1, 2, 3, 4, 1, 2, 3, 4, 1, 2, 3, 4, 1, 2, 3, 4, 1, 2,\n",
      "                   3, 4, 1, 2, 3, 4],\n",
      "             mask=[False, False, False, False, False, False, False, False,\n",
      "                   False, False, False, False, False, False, False, False,\n",
      "                   False, False, False, False, False, False, False, False],\n",
      "       fill_value='?',\n",
      "            dtype=object), 'params': [{'max_depth': 5, 'min_child_weight': 1}, {'max_depth': 5, 'min_child_weight': 2}, {'max_depth': 5, 'min_child_weight': 3}, {'max_depth': 5, 'min_child_weight': 4}, {'max_depth': 6, 'min_child_weight': 1}, {'max_depth': 6, 'min_child_weight': 2}, {'max_depth': 6, 'min_child_weight': 3}, {'max_depth': 6, 'min_child_weight': 4}, {'max_depth': 7, 'min_child_weight': 1}, {'max_depth': 7, 'min_child_weight': 2}, {'max_depth': 7, 'min_child_weight': 3}, {'max_depth': 7, 'min_child_weight': 4}, {'max_depth': 8, 'min_child_weight': 1}, {'max_depth': 8, 'min_child_weight': 2}, {'max_depth': 8, 'min_child_weight': 3}, {'max_depth': 8, 'min_child_weight': 4}, {'max_depth': 9, 'min_child_weight': 1}, {'max_depth': 9, 'min_child_weight': 2}, {'max_depth': 9, 'min_child_weight': 3}, {'max_depth': 9, 'min_child_weight': 4}, {'max_depth': 10, 'min_child_weight': 1}, {'max_depth': 10, 'min_child_weight': 2}, {'max_depth': 10, 'min_child_weight': 3}, {'max_depth': 10, 'min_child_weight': 4}], 'split0_test_score': array([0.8504843 , 0.8504843 , 0.85041385, 0.85094218, 0.85232169,\n",
      "       0.85240387, 0.85223364, 0.85282653, 0.8529909 , 0.85316114,\n",
      "       0.85341943, 0.85312005, 0.85418844, 0.85417082, 0.85386557,\n",
      "       0.85414147, 0.85417082, 0.85439977, 0.85474611, 0.85397124,\n",
      "       0.85404168, 0.85418257, 0.85454652, 0.85426475]), 'split1_test_score': array([0.84899325, 0.84835926, 0.84904608, 0.84911065, 0.85066041,\n",
      "       0.85070737, 0.85068389, 0.85023775, 0.8511946 , 0.85110655,\n",
      "       0.85118286, 0.85078955, 0.85175814, 0.85151746, 0.85197534,\n",
      "       0.8517464 , 0.85219842, 0.85218667, 0.85181098, 0.85181098,\n",
      "       0.8521221 , 0.85202818, 0.85209862, 0.85236278]), 'split2_test_score': array([0.84960376, 0.85001468, 0.84966833, 0.8496155 , 0.85120634,\n",
      "       0.85114764, 0.85149398, 0.85195186, 0.85267391, 0.85216319,\n",
      "       0.85235691, 0.85250954, 0.85274435, 0.8527737 , 0.85312592,\n",
      "       0.85301438, 0.85292633, 0.85285588, 0.85362489, 0.85268565,\n",
      "       0.85275022, 0.85276196, 0.85295568, 0.8529322 ]), 'split3_test_score': array([0.84887584, 0.84982683, 0.84878779, 0.84898738, 0.85144115,\n",
      "       0.85167596, 0.85117112, 0.8510361 , 0.85181685, 0.85252128,\n",
      "       0.8519049 , 0.85195186, 0.85234517, 0.85269152, 0.85248019,\n",
      "       0.85254476, 0.85257411, 0.85270326, 0.85244497, 0.85290872,\n",
      "       0.85257998, 0.85248019, 0.85306721, 0.85191664]), 'split4_test_score': array([0.84872233, 0.84862253, 0.84836424, 0.84837011, 0.85080629,\n",
      "       0.85041298, 0.85031905, 0.84997857, 0.85183359, 0.85117024,\n",
      "       0.85178663, 0.85186294, 0.85196274, 0.85201557, 0.85202731,\n",
      "       0.85242649, 0.85209775, 0.85168683, 0.85263195, 0.85289611,\n",
      "       0.85188642, 0.8518512 , 0.85241475, 0.8524441 ]), 'mean_test_score': array([0.8493359 , 0.84946152, 0.84925606, 0.84940516, 0.85128717,\n",
      "       0.85126956, 0.85118033, 0.85120616, 0.85210197, 0.85202448,\n",
      "       0.85213015, 0.85204679, 0.85259977, 0.85263382, 0.85269487,\n",
      "       0.8527747 , 0.85279349, 0.85276648, 0.85305178, 0.85285454,\n",
      "       0.85267608, 0.85266082, 0.85301656, 0.85278409]), 'std_test_score': array([0.00064747, 0.00082515, 0.00071682, 0.00086479, 0.00058729,\n",
      "       0.00070944, 0.00066275, 0.00106352, 0.00064714, 0.00079125,\n",
      "       0.00074562, 0.00077324, 0.00086299, 0.00089596, 0.00071635,\n",
      "       0.00079461, 0.00074846, 0.00091449, 0.00102794, 0.00068836,\n",
      "       0.00074967, 0.00082635, 0.00084283, 0.00080745]), 'rank_test_score': array([23, 21, 24, 22, 17, 18, 20, 19, 14, 16, 13, 15, 12, 11,  8,  6,  4,\n",
      "        7,  1,  3,  9, 10,  2,  5])}\n"
     ]
    }
   ],
   "source": [
    "# {'max_depth': 9, 'min_child_weight': 3}\n",
    "# 0.8530517788458465\n",
    "\n",
    "print(GS.cv_results_)\n",
    "\n"
   ]
  },
  {
   "cell_type": "code",
   "execution_count": 33,
   "metadata": {},
   "outputs": [
    {
     "data": {
      "image/png": "[encoded data removed]",
      "text/plain": [
       "<Figure size 432x288 with 1 Axes>"
      ]
     },
     "metadata": {
      "needs_background": "light"
     },
     "output_type": "display_data"
    }
   ],
   "source": [
    "max_depth = range(5,11,1)\n",
    "min_child_weight = range(1,5,1)\n",
    "plot_grid_search(GS.cv_results_, max_depth, min_child_weight, 'Max Depth', 'Min Child Weight')"
   ]
  },
  {
   "cell_type": "code",
   "execution_count": null,
   "metadata": {},
   "outputs": [],
   "source": [
    "# The previous result shows that \"n_estimators\" should greater than 150 and \"max_depth\" should smaller than 20."
   ]
  },
  {
   "cell_type": "code",
   "execution_count": 34,
   "metadata": {},
   "outputs": [
    {
     "name": "stdout",
     "output_type": "stream",
     "text": [
      "{'learning_rate': 0.5, 'subsample': 1}\n",
      "0.851617084223353\n"
     ]
    }
   ],
   "source": [
    "param_test2 = {\n",
    "                'learning_rate':[0.1,0.5,1],\n",
    "                'subsample':[0.1,0.5,1]\n",
    "                }\n",
    "\n",
    "\n",
    "xgb2 = XGBClassifier(max_depth=9, min_child_weight=3, eval_metric=['logloss','auc','error'])\n",
    "GS2 = GridSearchCV(xgb2,param_test2)\n",
    "GS2.fit(X_train,y_train)\n",
    "print(GS2.best_params_)\n",
    "print(GS2.best_score_)"
   ]
  },
  {
   "cell_type": "code",
   "execution_count": 35,
   "metadata": {},
   "outputs": [
    {
     "data": {
      "image/png": "[encoded data removed]",
      "text/plain": [
       "<Figure size 432x288 with 1 Axes>"
      ]
     },
     "metadata": {
      "needs_background": "light"
     },
     "output_type": "display_data"
    }
   ],
   "source": [
    "learning_rate = [0.1,0.5,1]\n",
    "subsample =[0.1,0.5,1]\n",
    "plot_grid_search(GS2.cv_results_, learning_rate, subsample, 'Learning Rate', 'Subsample')"
   ]
  },
  {
   "cell_type": "code",
   "execution_count": null,
   "metadata": {},
   "outputs": [],
   "source": [
    "# The previous result shows that \"n_estimators\" should be 200 and \"max_depth\" should be 20."
   ]
  },
  {
   "cell_type": "code",
   "execution_count": 36,
   "metadata": {},
   "outputs": [
    {
     "name": "stdout",
     "output_type": "stream",
     "text": [
      "{'colsample_bytree': 0.3, 'sampling_method': 'uniform'}\n",
      "0.8391157485402173\n"
     ]
    }
   ],
   "source": [
    "param_test3 = {\n",
    "                'colsample_bytree':[0.3,0.7,1],\n",
    "                'sampling_method':['uniform','gradient_based']\n",
    "                }\n",
    "\n",
    "\n",
    "xgb3 = XGBClassifier(learning_rate=1,subsample=0.5,  max_depth=9, min_child_weight=3, eval_metric=['logloss','auc','error'])\n",
    "GS3 = GridSearchCV(xgb3,param_test3)\n",
    "GS3.fit(X_train,y_train)\n",
    "print(GS3.best_params_)\n",
    "print(GS3.best_score_)\n"
   ]
  },
  {
   "cell_type": "code",
   "execution_count": 38,
   "metadata": {},
   "outputs": [
    {
     "name": "stdout",
     "output_type": "stream",
     "text": [
      "{'mean_fit_time': array([40.97387533,  1.23907886, 66.41727781,  1.24346476, 86.34651012,\n",
      "        1.2642765 ]), 'std_fit_time': array([1.14225017, 0.02171629, 0.84243898, 0.0320893 , 0.31839855,\n",
      "       0.04696834]), 'mean_score_time': array([0.35908031, 0.        , 0.34767089, 0.        , 0.33826799,\n",
      "       0.        ]), 'std_score_time': array([0.01191925, 0.        , 0.01762619, 0.        , 0.02570205,\n",
      "       0.        ]), 'param_colsample_bytree': masked_array(data=[0.3, 0.3, 0.7, 0.7, 1, 1],\n",
      "             mask=[False, False, False, False, False, False],\n",
      "       fill_value='?',\n",
      "            dtype=object), 'param_sampling_method': masked_array(data=['uniform', 'gradient_based', 'uniform',\n",
      "                   'gradient_based', 'uniform', 'gradient_based'],\n",
      "             mask=[False, False, False, False, False, False],\n",
      "       fill_value='?',\n",
      "            dtype=object), 'params': [{'colsample_bytree': 0.3, 'sampling_method': 'uniform'}, {'colsample_bytree': 0.3, 'sampling_method': 'gradient_based'}, {'colsample_bytree': 0.7, 'sampling_method': 'uniform'}, {'colsample_bytree': 0.7, 'sampling_method': 'gradient_based'}, {'colsample_bytree': 1, 'sampling_method': 'uniform'}, {'colsample_bytree': 1, 'sampling_method': 'gradient_based'}], 'split0_test_score': array([0.83878485,        nan, 0.83638979,        nan, 0.83478133,\n",
      "              nan]), 'split1_test_score': array([0.83874963,        nan, 0.83431758,        nan, 0.83405342,\n",
      "              nan]), 'split2_test_score': array([0.83988259,        nan, 0.83373055,        nan, 0.83300264,\n",
      "              nan]), 'split3_test_score': array([0.83934253,        nan, 0.83448195,        nan, 0.83327854,\n",
      "              nan]), 'split4_test_score': array([0.83881913,        nan, 0.83603661,        nan, 0.83389982,\n",
      "              nan]), 'mean_test_score': array([0.83911575,        nan, 0.8349913 ,        nan, 0.83380315,\n",
      "              nan]), 'std_test_score': array([0.00044068,        nan, 0.00103453,        nan, 0.00062367,\n",
      "              nan]), 'rank_test_score': array([1, 4, 2, 5, 3, 6])}\n"
     ]
    }
   ],
   "source": [
    "print(GS3.cv_results_)"
   ]
  },
  {
   "cell_type": "code",
   "execution_count": 40,
   "metadata": {},
   "outputs": [
    {
     "data": {
      "image/png": "[encoded data removed]",
      "text/plain": [
       "<Figure size 432x288 with 1 Axes>"
      ]
     },
     "metadata": {
      "needs_background": "light"
     },
     "output_type": "display_data"
    }
   ],
   "source": [
    "colsample_bytree=[0.3,0.7,1]\n",
    "sampling_method=['uniform','gradient_based']\n",
    "plot_grid_search(GS3.cv_results_, colsample_bytree, sampling_method, 'Colsample Bytree', 'Sampling_ethod')"
   ]
  },
  {
   "cell_type": "code",
   "execution_count": 41,
   "metadata": {},
   "outputs": [
    {
     "name": "stdout",
     "output_type": "stream",
     "text": [
      "{'colsample_bytree': 0.3, 'reg_alpha': 100}\n",
      "0.8460039277744906\n"
     ]
    }
   ],
   "source": [
    "# Since the score keeps increasing as max_leaf_nodes keeps increasing, we assume unlimited max_leaf_nodes will be a good choice.\n",
    "param_test4 = {\n",
    "                'colsample_bytree':[0.1,0.2,0.3],\n",
    "                'reg_alpha':[1e-3, 1e-2, 0.1, 1, 100]\n",
    "                }\n",
    "\n",
    "\n",
    "xgb4 = XGBClassifier(sampling_method='uniform', learning_rate=1,subsample=0.5,  max_depth=9, min_child_weight=3, eval_metric=['logloss','auc','error'])\n",
    "GS4 = GridSearchCV(xgb4,param_test4)\n",
    "GS4.fit(X_train,y_train)\n",
    "print(GS4.best_params_)\n",
    "print(GS4.best_score_)\n"
   ]
  },
  {
   "cell_type": "code",
   "execution_count": 44,
   "metadata": {},
   "outputs": [
    {
     "data": {
      "image/png": "[encoded data removed]",
      "text/plain": [
       "<Figure size 432x288 with 1 Axes>"
      ]
     },
     "metadata": {
      "needs_background": "light"
     },
     "output_type": "display_data"
    }
   ],
   "source": [
    "colsample_bytree=[0.1,0.2,0.3]\n",
    "reg_alpha=[1e-3, 1e-2, 0.1, 1, 100]\n",
    "plot_grid_search(GS4.cv_results_,  colsample_bytree,reg_alpha,  'colsample_bytree','reg_alpha')"
   ]
  },
  {
   "cell_type": "code",
   "execution_count": 56,
   "metadata": {},
   "outputs": [
    {
     "name": "stdout",
     "output_type": "stream",
     "text": [
      "{'n_estimators': 1500, 'reg_alpha': 100}\n",
      "0.8504289402193319\n"
     ]
    }
   ],
   "source": [
    "# Since the score keeps increasing as max_leaf_nodes keeps increasing, we assume unlimited max_leaf_nodes will be a good choice.\n",
    "param_test5 = {\n",
    "                'n_estimators':[500,1000,1500],\n",
    "                'reg_alpha':[10,100,1000]\n",
    "                }\n",
    "\n",
    "\n",
    "xgb5 = XGBClassifier(colsample_bytree=0.3, sampling_method='uniform', learning_rate=1,subsample=0.5,  max_depth=9, min_child_weight=3, eval_metric=['logloss','auc','error'])\n",
    "GS5 = GridSearchCV(xgb5,param_test5)\n",
    "GS5.fit(X_train,y_train)\n",
    "print(GS5.best_params_)\n",
    "print(GS5.best_score_)"
   ]
  },
  {
   "cell_type": "code",
   "execution_count": 63,
   "metadata": {},
   "outputs": [
    {
     "name": "stdout",
     "output_type": "stream",
     "text": [
      "{'mean_fit_time': array([201.11849537, 160.84169993,  65.25903726, 403.03136349,\n",
      "       340.09998631, 119.61218858, 603.18872671, 507.80965972,\n",
      "       187.08247337]), 'std_fit_time': array([ 7.16652176,  1.32519902,  2.13004771,  4.5396316 ,  8.96148678,\n",
      "        0.87309068, 20.39544591, 25.70462233, 12.70806663]), 'mean_score_time': array([0.58492212, 0.48149323, 0.15283332, 1.11684794, 0.91819658,\n",
      "       0.17323418, 1.65975876, 1.31217613, 0.2090426 ]), 'std_score_time': array([0.01772861, 0.00574549, 0.00397097, 0.04010516, 0.02826865,\n",
      "       0.00548654, 0.09156287, 0.1142043 , 0.01282856]), 'param_n_estimators': masked_array(data=[500, 500, 500, 1000, 1000, 1000, 1500, 1500, 1500],\n",
      "             mask=[False, False, False, False, False, False, False, False,\n",
      "                   False],\n",
      "       fill_value='?',\n",
      "            dtype=object), 'param_reg_alpha': masked_array(data=[10, 100, 1000, 10, 100, 1000, 10, 100, 1000],\n",
      "             mask=[False, False, False, False, False, False, False, False,\n",
      "                   False],\n",
      "       fill_value='?',\n",
      "            dtype=object), 'params': [{'n_estimators': 500, 'reg_alpha': 10}, {'n_estimators': 500, 'reg_alpha': 100}, {'n_estimators': 500, 'reg_alpha': 1000}, {'n_estimators': 1000, 'reg_alpha': 10}, {'n_estimators': 1000, 'reg_alpha': 100}, {'n_estimators': 1000, 'reg_alpha': 1000}, {'n_estimators': 1500, 'reg_alpha': 10}, {'n_estimators': 1500, 'reg_alpha': 100}, {'n_estimators': 1500, 'reg_alpha': 1000}], 'split0_test_score': array([0.84397417, 0.85020839, 0.835656  , 0.8386968 , 0.85146463,\n",
      "       0.835656  , 0.83498092, 0.85176989, 0.835656  ]), 'split1_test_score': array([0.84258879, 0.84790725, 0.83288524, 0.83824479, 0.84909304,\n",
      "       0.83319636, 0.83471676, 0.84982683, 0.8333666 ]), 'split2_test_score': array([0.84345172, 0.84869974, 0.83263281, 0.83832697, 0.84986792,\n",
      "       0.83279131, 0.83432345, 0.85030819, 0.83279131]), 'split3_test_score': array([0.84299971, 0.8486469 , 0.83411799, 0.83678309, 0.85014969,\n",
      "       0.83420018, 0.83321984, 0.85040798, 0.83428823]), 'split4_test_score': array([0.84237066, 0.84857557, 0.83378828, 0.83764507, 0.84950895,\n",
      "       0.83389982, 0.83496821, 0.84983182, 0.83401722]), 'mean_test_score': array([0.84307701, 0.84880757, 0.83381607, 0.83793935, 0.85001685,\n",
      "       0.83394873, 0.83444184, 0.85042894, 0.83402387]), 'std_test_score': array([0.00058113, 0.00075686, 0.0010718 , 0.00066945, 0.00080589,\n",
      "       0.00098854, 0.00065583, 0.00071165, 0.00096799]), 'rank_test_score': array([4, 3, 9, 5, 2, 8, 6, 1, 7])}\n",
      "{'n_estimators': 1500, 'reg_alpha': 100}\n",
      "0.8504289402193319\n"
     ]
    }
   ],
   "source": [
    "print(GS5.cv_results_)\n",
    "print(GS5.best_params_)\n",
    "print(GS5.best_score_)"
   ]
  },
  {
   "cell_type": "code",
   "execution_count": 61,
   "metadata": {},
   "outputs": [
    {
     "data": {
      "image/png": "[encoded data removed]",
      "text/plain": [
       "<Figure size 432x288 with 1 Axes>"
      ]
     },
     "metadata": {
      "needs_background": "light"
     },
     "output_type": "display_data"
    }
   ],
   "source": [
    "n_estimators = [500,1000,1500]\n",
    "reg_alpha=[10,100,1000]\n",
    "plot_grid_search(GS5.cv_results_,  n_estimators, reg_alpha,  'N Estimators','Reg Alpha')"
   ]
  },
  {
   "cell_type": "code",
   "execution_count": 62,
   "metadata": {},
   "outputs": [
    {
     "name": "stdout",
     "output_type": "stream",
     "text": [
      "The score of training set is: 0.8579346732429389\n",
      "The score of testing set is: 0.8797317267250199\n"
     ]
    },
    {
     "data": {
      "image/png": "[encoded data removed]",
      "text/plain": [
       "<Figure size 432x288 with 1 Axes>"
      ]
     },
     "metadata": {
      "needs_background": "light"
     },
     "output_type": "display_data"
    },
    {
     "data": {
      "image/png": "[encoded data removed]",
      "text/plain": [
       "<Figure size 432x288 with 1 Axes>"
      ]
     },
     "metadata": {
      "needs_background": "light"
     },
     "output_type": "display_data"
    }
   ],
   "source": [
    "xgb_new = XGBClassifier(n_estimators=1000, colsample_bytree=0.5, reg_alpha=100, sampling_method='uniform', learning_rate=1,subsample=0.5,  max_depth=15, min_child_weight=3, eval_metric=['logloss','auc','error'])\n",
    "xgb_new.fit(X_train, y_train)\n",
    "plot_roc_curve(xgb_new, X_train, y_train)\n",
    "print(\"The score of training set is:\", xgb_new.score(X_train, y_train))\n",
    "plot_roc_curve(xgb_new, X_test, y_test)\n",
    "print(\"The score of testing set is:\", xgb_new.score(X_test, y_test))"
   ]
  }
 ],
 "metadata": {
  "kernelspec": {
   "display_name": "Python 3",
   "language": "python",
   "name": "python3"
  },
  "language_info": {
   "codemirror_mode": {
    "name": "ipython",
    "version": 3
   },
   "file_extension": ".py",
   "mimetype": "text/x-python",
   "name": "python",
   "nbconvert_exporter": "python",
   "pygments_lexer": "ipython3",
   "version": "3.9.1"
  }
 },
 "nbformat": 4,
 "nbformat_minor": 1
}
