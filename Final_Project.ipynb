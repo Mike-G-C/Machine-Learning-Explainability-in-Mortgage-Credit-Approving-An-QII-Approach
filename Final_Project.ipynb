{
 "cells": [
  {
   "cell_type": "markdown",
   "metadata": {
    "collapsed": true,
    "pycharm": {
     "name": "#%% md\n"
    }
   },
   "source": [
    "<h1 style=\"text-align: center;\"> Final Project </h1>\n",
    "<p style=\"text-align: center;\"> <strong> Yichen Gong, Yihan Xu, Frank Zhao</strong></p>"
   ]
  },
  {
   "cell_type": "markdown",
   "metadata": {
    "pycharm": {
     "name": "#%% md\n"
    }
   },
   "source": [
    "## I. Dataset\n",
    "### (a). Dataset Introduction\n",
    "We are using the [Home Mortgage Disclosure Act (HMDA)](https://www.consumerfinance.gov/data-research/hmda/) dataset of the Consumer Financial Protection Bureau (CFPB) to study upon which conditions a mortgage request is approved or rejected. Our research focuses on the dataset between 2018 and 2019, which can be downloaded from [FFEIC](https://ffiec.cfpb.gov/data-publication/)."
   ]
  },
  {
   "cell_type": "markdown",
   "metadata": {
    "pycharm": {
     "name": "#%% md\n"
    }
   },
   "source": [
    "### (b). Dataset Summary Statistics and Preprocessing\n",
    "#### (1). load data from disk"
   ]
  },
  {
   "cell_type": "code",
   "execution_count": 1,
   "metadata": {
    "pycharm": {
     "name": "#%%\n"
    }
   },
   "outputs": [
    {
     "name": "stderr",
     "output_type": "stream",
     "text": [
      "c:\\users\\27161\\appdata\\local\\programs\\python\\python39\\lib\\site-packages\\IPython\\core\\interactiveshell.py:3165: DtypeWarning: Columns (5,6) have mixed types.Specify dtype option on import or set low_memory=False.\n",
      "  has_raised = await self.run_ast_nodes(code_ast.body, cell_name,\n"
     ]
    }
   ],
   "source": [
    "import matplotlib.pyplot as plt\n",
    "import pandas as pd\n",
    "pd.options.display.max_rows = 70\n",
    "df = pd.read_csv(\"lar_10.csv\", delimiter = \",\", dtype = {\"activity_year\": \"object\", \"action_taken\":\"object\", \"preapproval\":\"object\", \"loan_type\":\"object\", \"loan_purpose\":\"object\",\"hoepa_status  \":\"object\",\"activity_year\":\"object\"} )"
   ]
  },
  {
   "cell_type": "markdown",
   "metadata": {
    "pycharm": {
     "name": "#%% md\n"
    }
   },
   "source": [
    "#### (2). Summary data statistics and pick features/observations of interest"
   ]
  },
  {
   "cell_type": "code",
   "execution_count": 2,
   "metadata": {
    "pycharm": {
     "name": "#%%\n"
    }
   },
   "outputs": [
    {
     "data": {
      "text/html": [
       "<div>\n",
       "<style scoped>\n",
       "    .dataframe tbody tr th:only-of-type {\n",
       "        vertical-align: middle;\n",
       "    }\n",
       "\n",
       "    .dataframe tbody tr th {\n",
       "        vertical-align: top;\n",
       "    }\n",
       "\n",
       "    .dataframe thead th {\n",
       "        text-align: right;\n",
       "    }\n",
       "</style>\n",
       "<table border=\"1\" class=\"dataframe\">\n",
       "  <thead>\n",
       "    <tr style=\"text-align: right;\">\n",
       "      <th></th>\n",
       "      <th>Unnamed: 0</th>\n",
       "      <th>derived_msa_md</th>\n",
       "      <th>purchaser_type</th>\n",
       "      <th>lien_status</th>\n",
       "      <th>reverse_mortgage</th>\n",
       "      <th>open_end_line_of_credit</th>\n",
       "      <th>business_or_commercial_purpose</th>\n",
       "      <th>loan_amount</th>\n",
       "      <th>hoepa_status</th>\n",
       "      <th>negative_amortization</th>\n",
       "      <th>...</th>\n",
       "      <th>denial_reason_2</th>\n",
       "      <th>denial_reason_3</th>\n",
       "      <th>denial_reason_4</th>\n",
       "      <th>tract_population</th>\n",
       "      <th>tract_minority_population_percen</th>\n",
       "      <th>ffiec_msa_md_median_family_incom</th>\n",
       "      <th>tract_to_msa_income_percentage</th>\n",
       "      <th>tract_owner_occupied_units</th>\n",
       "      <th>tract_one_to_four_family_homes</th>\n",
       "      <th>tract_median_age_of_housing_unit</th>\n",
       "    </tr>\n",
       "  </thead>\n",
       "  <tbody>\n",
       "    <tr>\n",
       "      <th>count</th>\n",
       "      <td>1.689568e+06</td>\n",
       "      <td>1.689568e+06</td>\n",
       "      <td>1.689568e+06</td>\n",
       "      <td>1.689568e+06</td>\n",
       "      <td>1.689568e+06</td>\n",
       "      <td>1.689568e+06</td>\n",
       "      <td>1.689568e+06</td>\n",
       "      <td>1.689568e+06</td>\n",
       "      <td>1.689568e+06</td>\n",
       "      <td>1.689568e+06</td>\n",
       "      <td>...</td>\n",
       "      <td>67868.000000</td>\n",
       "      <td>12077.000000</td>\n",
       "      <td>1211.000000</td>\n",
       "      <td>1.689568e+06</td>\n",
       "      <td>1.689568e+06</td>\n",
       "      <td>1.689568e+06</td>\n",
       "      <td>1.689568e+06</td>\n",
       "      <td>1.689568e+06</td>\n",
       "      <td>1.689568e+06</td>\n",
       "      <td>1.689568e+06</td>\n",
       "    </tr>\n",
       "    <tr>\n",
       "      <th>mean</th>\n",
       "      <td>8.447835e+05</td>\n",
       "      <td>3.683390e+04</td>\n",
       "      <td>5.257184e+00</td>\n",
       "      <td>1.143089e+00</td>\n",
       "      <td>3.173110e+01</td>\n",
       "      <td>3.119922e+01</td>\n",
       "      <td>3.147323e+01</td>\n",
       "      <td>2.413841e+05</td>\n",
       "      <td>2.431189e+00</td>\n",
       "      <td>3.206510e+01</td>\n",
       "      <td>...</td>\n",
       "      <td>4.116137</td>\n",
       "      <td>4.721620</td>\n",
       "      <td>4.596201</td>\n",
       "      <td>5.549739e+03</td>\n",
       "      <td>3.129275e+01</td>\n",
       "      <td>7.365712e+04</td>\n",
       "      <td>1.107751e+02</td>\n",
       "      <td>1.427816e+03</td>\n",
       "      <td>1.949313e+03</td>\n",
       "      <td>3.488797e+01</td>\n",
       "    </tr>\n",
       "    <tr>\n",
       "      <th>std</th>\n",
       "      <td>4.877364e+05</td>\n",
       "      <td>2.426175e+04</td>\n",
       "      <td>1.644296e+01</td>\n",
       "      <td>3.511507e-01</td>\n",
       "      <td>1.791502e+02</td>\n",
       "      <td>1.780380e+02</td>\n",
       "      <td>1.784724e+02</td>\n",
       "      <td>9.011438e+05</td>\n",
       "      <td>4.976853e-01</td>\n",
       "      <td>1.801097e+02</td>\n",
       "      <td>...</td>\n",
       "      <td>2.668994</td>\n",
       "      <td>2.773378</td>\n",
       "      <td>3.491376</td>\n",
       "      <td>3.233306e+03</td>\n",
       "      <td>2.616027e+01</td>\n",
       "      <td>1.945617e+04</td>\n",
       "      <td>4.482474e+01</td>\n",
       "      <td>9.023557e+02</td>\n",
       "      <td>1.129251e+03</td>\n",
       "      <td>1.841395e+01</td>\n",
       "    </tr>\n",
       "    <tr>\n",
       "      <th>min</th>\n",
       "      <td>0.000000e+00</td>\n",
       "      <td>0.000000e+00</td>\n",
       "      <td>-1.000000e+00</td>\n",
       "      <td>-1.000000e+00</td>\n",
       "      <td>-1.000000e+00</td>\n",
       "      <td>-1.000000e+00</td>\n",
       "      <td>-1.000000e+00</td>\n",
       "      <td>5.000000e+03</td>\n",
       "      <td>-1.000000e+00</td>\n",
       "      <td>-1.000000e+00</td>\n",
       "      <td>...</td>\n",
       "      <td>-1.000000</td>\n",
       "      <td>-1.000000</td>\n",
       "      <td>-1.000000</td>\n",
       "      <td>0.000000e+00</td>\n",
       "      <td>0.000000e+00</td>\n",
       "      <td>0.000000e+00</td>\n",
       "      <td>0.000000e+00</td>\n",
       "      <td>0.000000e+00</td>\n",
       "      <td>0.000000e+00</td>\n",
       "      <td>-1.000000e+00</td>\n",
       "    </tr>\n",
       "    <tr>\n",
       "      <th>25%</th>\n",
       "      <td>4.223918e+05</td>\n",
       "      <td>1.974000e+04</td>\n",
       "      <td>0.000000e+00</td>\n",
       "      <td>1.000000e+00</td>\n",
       "      <td>2.000000e+00</td>\n",
       "      <td>2.000000e+00</td>\n",
       "      <td>2.000000e+00</td>\n",
       "      <td>9.500000e+04</td>\n",
       "      <td>2.000000e+00</td>\n",
       "      <td>2.000000e+00</td>\n",
       "      <td>...</td>\n",
       "      <td>2.000000</td>\n",
       "      <td>3.000000</td>\n",
       "      <td>1.000000</td>\n",
       "      <td>3.729000e+03</td>\n",
       "      <td>1.051000e+01</td>\n",
       "      <td>6.420000e+04</td>\n",
       "      <td>8.500000e+01</td>\n",
       "      <td>8.930000e+02</td>\n",
       "      <td>1.297000e+03</td>\n",
       "      <td>2.100000e+01</td>\n",
       "    </tr>\n",
       "    <tr>\n",
       "      <th>50%</th>\n",
       "      <td>8.447835e+05</td>\n",
       "      <td>3.387400e+04</td>\n",
       "      <td>0.000000e+00</td>\n",
       "      <td>1.000000e+00</td>\n",
       "      <td>2.000000e+00</td>\n",
       "      <td>2.000000e+00</td>\n",
       "      <td>2.000000e+00</td>\n",
       "      <td>1.750000e+05</td>\n",
       "      <td>2.000000e+00</td>\n",
       "      <td>2.000000e+00</td>\n",
       "      <td>...</td>\n",
       "      <td>3.000000</td>\n",
       "      <td>4.000000</td>\n",
       "      <td>5.000000</td>\n",
       "      <td>5.078000e+03</td>\n",
       "      <td>2.315000e+01</td>\n",
       "      <td>7.380000e+04</td>\n",
       "      <td>1.070000e+02</td>\n",
       "      <td>1.303000e+03</td>\n",
       "      <td>1.790000e+03</td>\n",
       "      <td>3.300000e+01</td>\n",
       "    </tr>\n",
       "    <tr>\n",
       "      <th>75%</th>\n",
       "      <td>1.267175e+06</td>\n",
       "      <td>4.174000e+04</td>\n",
       "      <td>2.000000e+00</td>\n",
       "      <td>1.000000e+00</td>\n",
       "      <td>2.000000e+00</td>\n",
       "      <td>2.000000e+00</td>\n",
       "      <td>2.000000e+00</td>\n",
       "      <td>2.850000e+05</td>\n",
       "      <td>3.000000e+00</td>\n",
       "      <td>2.000000e+00</td>\n",
       "      <td>...</td>\n",
       "      <td>6.000000</td>\n",
       "      <td>7.000000</td>\n",
       "      <td>7.000000</td>\n",
       "      <td>6.707000e+03</td>\n",
       "      <td>4.600000e+01</td>\n",
       "      <td>8.180000e+04</td>\n",
       "      <td>1.330000e+02</td>\n",
       "      <td>1.795000e+03</td>\n",
       "      <td>2.397000e+03</td>\n",
       "      <td>4.700000e+01</td>\n",
       "    </tr>\n",
       "    <tr>\n",
       "      <th>max</th>\n",
       "      <td>1.689567e+06</td>\n",
       "      <td>9.999900e+04</td>\n",
       "      <td>7.200000e+01</td>\n",
       "      <td>2.000000e+00</td>\n",
       "      <td>1.111000e+03</td>\n",
       "      <td>1.111000e+03</td>\n",
       "      <td>1.111000e+03</td>\n",
       "      <td>3.100050e+08</td>\n",
       "      <td>3.000000e+00</td>\n",
       "      <td>1.111000e+03</td>\n",
       "      <td>...</td>\n",
       "      <td>9.000000</td>\n",
       "      <td>9.000000</td>\n",
       "      <td>9.000000</td>\n",
       "      <td>5.381200e+04</td>\n",
       "      <td>1.000000e+02</td>\n",
       "      <td>1.510000e+05</td>\n",
       "      <td>5.070000e+02</td>\n",
       "      <td>1.952900e+04</td>\n",
       "      <td>2.539100e+04</td>\n",
       "      <td>7.600000e+01</td>\n",
       "    </tr>\n",
       "  </tbody>\n",
       "</table>\n",
       "<p>8 rows × 66 columns</p>\n",
       "</div>"
      ],
      "text/plain": [
       "         Unnamed: 0  derived_msa_md  purchaser_type   lien_status  \\\n",
       "count  1.689568e+06    1.689568e+06    1.689568e+06  1.689568e+06   \n",
       "mean   8.447835e+05    3.683390e+04    5.257184e+00  1.143089e+00   \n",
       "std    4.877364e+05    2.426175e+04    1.644296e+01  3.511507e-01   \n",
       "min    0.000000e+00    0.000000e+00   -1.000000e+00 -1.000000e+00   \n",
       "25%    4.223918e+05    1.974000e+04    0.000000e+00  1.000000e+00   \n",
       "50%    8.447835e+05    3.387400e+04    0.000000e+00  1.000000e+00   \n",
       "75%    1.267175e+06    4.174000e+04    2.000000e+00  1.000000e+00   \n",
       "max    1.689567e+06    9.999900e+04    7.200000e+01  2.000000e+00   \n",
       "\n",
       "       reverse_mortgage  open_end_line_of_credit  \\\n",
       "count      1.689568e+06             1.689568e+06   \n",
       "mean       3.173110e+01             3.119922e+01   \n",
       "std        1.791502e+02             1.780380e+02   \n",
       "min       -1.000000e+00            -1.000000e+00   \n",
       "25%        2.000000e+00             2.000000e+00   \n",
       "50%        2.000000e+00             2.000000e+00   \n",
       "75%        2.000000e+00             2.000000e+00   \n",
       "max        1.111000e+03             1.111000e+03   \n",
       "\n",
       "       business_or_commercial_purpose   loan_amount  hoepa_status  \\\n",
       "count                    1.689568e+06  1.689568e+06  1.689568e+06   \n",
       "mean                     3.147323e+01  2.413841e+05  2.431189e+00   \n",
       "std                      1.784724e+02  9.011438e+05  4.976853e-01   \n",
       "min                     -1.000000e+00  5.000000e+03 -1.000000e+00   \n",
       "25%                      2.000000e+00  9.500000e+04  2.000000e+00   \n",
       "50%                      2.000000e+00  1.750000e+05  2.000000e+00   \n",
       "75%                      2.000000e+00  2.850000e+05  3.000000e+00   \n",
       "max                      1.111000e+03  3.100050e+08  3.000000e+00   \n",
       "\n",
       "       negative_amortization  ...  denial_reason_2  denial_reason_3  \\\n",
       "count           1.689568e+06  ...     67868.000000     12077.000000   \n",
       "mean            3.206510e+01  ...         4.116137         4.721620   \n",
       "std             1.801097e+02  ...         2.668994         2.773378   \n",
       "min            -1.000000e+00  ...        -1.000000        -1.000000   \n",
       "25%             2.000000e+00  ...         2.000000         3.000000   \n",
       "50%             2.000000e+00  ...         3.000000         4.000000   \n",
       "75%             2.000000e+00  ...         6.000000         7.000000   \n",
       "max             1.111000e+03  ...         9.000000         9.000000   \n",
       "\n",
       "       denial_reason_4  tract_population  tract_minority_population_percen  \\\n",
       "count      1211.000000      1.689568e+06                      1.689568e+06   \n",
       "mean          4.596201      5.549739e+03                      3.129275e+01   \n",
       "std           3.491376      3.233306e+03                      2.616027e+01   \n",
       "min          -1.000000      0.000000e+00                      0.000000e+00   \n",
       "25%           1.000000      3.729000e+03                      1.051000e+01   \n",
       "50%           5.000000      5.078000e+03                      2.315000e+01   \n",
       "75%           7.000000      6.707000e+03                      4.600000e+01   \n",
       "max           9.000000      5.381200e+04                      1.000000e+02   \n",
       "\n",
       "       ffiec_msa_md_median_family_incom  tract_to_msa_income_percentage  \\\n",
       "count                      1.689568e+06                    1.689568e+06   \n",
       "mean                       7.365712e+04                    1.107751e+02   \n",
       "std                        1.945617e+04                    4.482474e+01   \n",
       "min                        0.000000e+00                    0.000000e+00   \n",
       "25%                        6.420000e+04                    8.500000e+01   \n",
       "50%                        7.380000e+04                    1.070000e+02   \n",
       "75%                        8.180000e+04                    1.330000e+02   \n",
       "max                        1.510000e+05                    5.070000e+02   \n",
       "\n",
       "       tract_owner_occupied_units  tract_one_to_four_family_homes  \\\n",
       "count                1.689568e+06                    1.689568e+06   \n",
       "mean                 1.427816e+03                    1.949313e+03   \n",
       "std                  9.023557e+02                    1.129251e+03   \n",
       "min                  0.000000e+00                    0.000000e+00   \n",
       "25%                  8.930000e+02                    1.297000e+03   \n",
       "50%                  1.303000e+03                    1.790000e+03   \n",
       "75%                  1.795000e+03                    2.397000e+03   \n",
       "max                  1.952900e+04                    2.539100e+04   \n",
       "\n",
       "       tract_median_age_of_housing_unit  \n",
       "count                      1.689568e+06  \n",
       "mean                       3.488797e+01  \n",
       "std                        1.841395e+01  \n",
       "min                       -1.000000e+00  \n",
       "25%                        2.100000e+01  \n",
       "50%                        3.300000e+01  \n",
       "75%                        4.700000e+01  \n",
       "max                        7.600000e+01  \n",
       "\n",
       "[8 rows x 66 columns]"
      ]
     },
     "execution_count": 2,
     "metadata": {},
     "output_type": "execute_result"
    }
   ],
   "source": [
    "df.describe()"
   ]
  },
  {
   "cell_type": "code",
   "execution_count": 3,
   "metadata": {
    "pycharm": {
     "name": "#%%\n"
    }
   },
   "outputs": [],
   "source": [
    "df_Selected = df[[\"activity_year\",\"derived_ethnicity\", \"derived_race\", \"derived_sex\", \"action_taken\",\n",
    "                            \"preapproval\",\"loan_type\", \"loan_purpose\", \"lien_status\", \"reverse_mortgage\",\n",
    "                            \"open_end_line_of_credit\", \"business_or_commercial_purpose\", \"combined_loan_to_value_ratio\",\n",
    "                            \"property_value\", \"construction_method\", \"occupancy_type\", \"total_units\",\n",
    "                            \"income\", \"debt_to_income_ratio\", \"applicant_age\", \"submission_of_application\"\n",
    "                            ]]\n",
    "df_Selected = df_Selected[df_Selected[\"action_taken\"].isin((\"1\", \"3\"))]\n",
    "df_Selected = df_Selected[df_Selected[\"derived_ethnicity\"] != \"Free Form Text Only\"]\n",
    "df_Selected = df_Selected[df_Selected[\"derived_race\"] != \"Free Form Text Only\"]\n",
    "df_Selected = df_Selected[df_Selected[\"derived_sex\"] != \"Sex Not Available\"]\n",
    "# 5 means Loan Purpose not applicable\n",
    "df_Selected = df_Selected[df_Selected[\"loan_purpose\"] != \"5\"]\n",
    "# 1111 means the feature is not applicable\n",
    "df_Selected = df_Selected[df_Selected[\"reverse_mortgage\"] != 1111]\n",
    "df_Selected = df_Selected[df_Selected[\"open_end_line_of_credit\"] != 1111]\n",
    "df_Selected = df_Selected[df_Selected[\"business_or_commercial_purpose\"] != 1111]\n",
    "df_Selected = df_Selected[df_Selected[\"submission_of_application\"] != 1111]\n",
    "df_Selected = df_Selected[df_Selected[\"property_value\"] != \"Exempt\"]\n",
    "df_Selected = df_Selected[df_Selected[\"construction_method\"] != \"Free Form Text Only\"]\n",
    "df_Selected = df_Selected[df_Selected[\"income\"] != \"Free Form Text Only\"]\n",
    "df_Selected = df_Selected[df_Selected[\"income\"] != \"Exempt\"]\n",
    "df_Selected = df_Selected[df_Selected[\"debt_to_income_ratio\"] != \"Exempt\"]\n",
    "# 8888, 9999 means age is not applicable\n",
    "df_Selected = df_Selected[df_Selected[\"applicant_age\"] != '8888']\n",
    "df_Selected = df_Selected[df_Selected[\"applicant_age\"] != '9999']\n",
    "df_Selected =df_Selected[df_Selected[\"combined_loan_to_value_ratio\"] != \"Exempt\"]\n",
    "df_Selected[\"lien_status\"] = df_Selected[\"lien_status\"].astype(object)\n",
    "df_Selected[\"reverse_mortgage\"] = df_Selected[\"reverse_mortgage\"].astype(object)\n",
    "df_Selected[\"open_end_line_of_credit\"] = df_Selected[\"open_end_line_of_credit\"].astype(object)\n",
    "df_Selected[\"business_or_commercial_purpose\"] = df_Selected[\"business_or_commercial_purpose\"].astype(object)\n",
    "df_Selected[\"submission_of_application\"] = df_Selected[\"submission_of_application\"].astype(object)\n",
    "df_Selected[\"occupancy_type\"] = df_Selected[\"occupancy_type\"].astype(object)\n",
    "df_Selected[\"construction_method\"] = df_Selected[\"construction_method\"].astype(object)\n",
    "df_Selected[\"combined_loan_to_value_ratio\"] = df_Selected[\"combined_loan_to_value_ratio\"].astype(float)\n",
    "df_Selected[\"property_value\"] = df_Selected[\"property_value\"].astype(float)\n",
    "df_Selected = pd.get_dummies(df_Selected)\n",
    "df_2019_Selected = df_Selected[df_Selected[\"activity_year_2019\"] == 1]\n",
    "df_2018_Selected = df_Selected[df_Selected[\"activity_year_2018\"] == 1]\n",
    "df_2019_Selected = df_2019_Selected.drop(columns = [\"activity_year_2019\", \"activity_year_2018\"])\n",
    "df_2018_Selected = df_2018_Selected.drop(columns = [\"activity_year_2019\", \"activity_year_2018\"])"
   ]
  },
  {
   "cell_type": "code",
   "execution_count": 4,
   "metadata": {
    "pycharm": {
     "name": "#%%\n"
    }
   },
   "outputs": [
    {
     "data": {
      "text/html": [
       "<div>\n",
       "<style scoped>\n",
       "    .dataframe tbody tr th:only-of-type {\n",
       "        vertical-align: middle;\n",
       "    }\n",
       "\n",
       "    .dataframe tbody tr th {\n",
       "        vertical-align: top;\n",
       "    }\n",
       "\n",
       "    .dataframe thead th {\n",
       "        text-align: right;\n",
       "    }\n",
       "</style>\n",
       "<table border=\"1\" class=\"dataframe\">\n",
       "  <thead>\n",
       "    <tr style=\"text-align: right;\">\n",
       "      <th></th>\n",
       "      <th>combined_loan_to_value_ratio</th>\n",
       "      <th>property_value</th>\n",
       "      <th>income</th>\n",
       "      <th>derived_ethnicity_Ethnicity Not Available</th>\n",
       "      <th>derived_ethnicity_Hispanic or Latino</th>\n",
       "      <th>derived_ethnicity_Joint</th>\n",
       "      <th>derived_ethnicity_Not Hispanic or Latino</th>\n",
       "      <th>derived_race_2 or more minority races</th>\n",
       "      <th>derived_race_American Indian or Alaska Native</th>\n",
       "      <th>derived_race_Asian</th>\n",
       "      <th>...</th>\n",
       "      <th>debt_to_income_ratio_&gt;60%</th>\n",
       "      <th>applicant_age_25-34</th>\n",
       "      <th>applicant_age_35-44</th>\n",
       "      <th>applicant_age_45-54</th>\n",
       "      <th>applicant_age_55-64</th>\n",
       "      <th>applicant_age_65-74</th>\n",
       "      <th>applicant_age_&lt;25</th>\n",
       "      <th>applicant_age_&gt;74</th>\n",
       "      <th>submission_of_application_1</th>\n",
       "      <th>submission_of_application_2</th>\n",
       "    </tr>\n",
       "  </thead>\n",
       "  <tbody>\n",
       "    <tr>\n",
       "      <th>1513977</th>\n",
       "      <td>44.666</td>\n",
       "      <td>365000.0</td>\n",
       "      <td>94.0</td>\n",
       "      <td>0</td>\n",
       "      <td>0</td>\n",
       "      <td>0</td>\n",
       "      <td>1</td>\n",
       "      <td>0</td>\n",
       "      <td>0</td>\n",
       "      <td>0</td>\n",
       "      <td>...</td>\n",
       "      <td>0</td>\n",
       "      <td>0</td>\n",
       "      <td>0</td>\n",
       "      <td>0</td>\n",
       "      <td>0</td>\n",
       "      <td>1</td>\n",
       "      <td>0</td>\n",
       "      <td>0</td>\n",
       "      <td>1</td>\n",
       "      <td>0</td>\n",
       "    </tr>\n",
       "    <tr>\n",
       "      <th>1513980</th>\n",
       "      <td>97.177</td>\n",
       "      <td>145000.0</td>\n",
       "      <td>40.0</td>\n",
       "      <td>0</td>\n",
       "      <td>0</td>\n",
       "      <td>0</td>\n",
       "      <td>1</td>\n",
       "      <td>0</td>\n",
       "      <td>0</td>\n",
       "      <td>0</td>\n",
       "      <td>...</td>\n",
       "      <td>0</td>\n",
       "      <td>0</td>\n",
       "      <td>0</td>\n",
       "      <td>0</td>\n",
       "      <td>1</td>\n",
       "      <td>0</td>\n",
       "      <td>0</td>\n",
       "      <td>0</td>\n",
       "      <td>1</td>\n",
       "      <td>0</td>\n",
       "    </tr>\n",
       "    <tr>\n",
       "      <th>1513981</th>\n",
       "      <td>103.860</td>\n",
       "      <td>375000.0</td>\n",
       "      <td>190.0</td>\n",
       "      <td>0</td>\n",
       "      <td>0</td>\n",
       "      <td>0</td>\n",
       "      <td>1</td>\n",
       "      <td>0</td>\n",
       "      <td>0</td>\n",
       "      <td>0</td>\n",
       "      <td>...</td>\n",
       "      <td>1</td>\n",
       "      <td>0</td>\n",
       "      <td>0</td>\n",
       "      <td>1</td>\n",
       "      <td>0</td>\n",
       "      <td>0</td>\n",
       "      <td>0</td>\n",
       "      <td>0</td>\n",
       "      <td>1</td>\n",
       "      <td>0</td>\n",
       "    </tr>\n",
       "    <tr>\n",
       "      <th>1513986</th>\n",
       "      <td>71.429</td>\n",
       "      <td>245000.0</td>\n",
       "      <td>173.0</td>\n",
       "      <td>0</td>\n",
       "      <td>0</td>\n",
       "      <td>0</td>\n",
       "      <td>1</td>\n",
       "      <td>0</td>\n",
       "      <td>0</td>\n",
       "      <td>0</td>\n",
       "      <td>...</td>\n",
       "      <td>0</td>\n",
       "      <td>0</td>\n",
       "      <td>0</td>\n",
       "      <td>1</td>\n",
       "      <td>0</td>\n",
       "      <td>0</td>\n",
       "      <td>0</td>\n",
       "      <td>0</td>\n",
       "      <td>1</td>\n",
       "      <td>0</td>\n",
       "    </tr>\n",
       "    <tr>\n",
       "      <th>1513990</th>\n",
       "      <td>98.886</td>\n",
       "      <td>145000.0</td>\n",
       "      <td>50.0</td>\n",
       "      <td>0</td>\n",
       "      <td>0</td>\n",
       "      <td>0</td>\n",
       "      <td>1</td>\n",
       "      <td>0</td>\n",
       "      <td>0</td>\n",
       "      <td>0</td>\n",
       "      <td>...</td>\n",
       "      <td>1</td>\n",
       "      <td>0</td>\n",
       "      <td>1</td>\n",
       "      <td>0</td>\n",
       "      <td>0</td>\n",
       "      <td>0</td>\n",
       "      <td>0</td>\n",
       "      <td>0</td>\n",
       "      <td>1</td>\n",
       "      <td>0</td>\n",
       "    </tr>\n",
       "    <tr>\n",
       "      <th>...</th>\n",
       "      <td>...</td>\n",
       "      <td>...</td>\n",
       "      <td>...</td>\n",
       "      <td>...</td>\n",
       "      <td>...</td>\n",
       "      <td>...</td>\n",
       "      <td>...</td>\n",
       "      <td>...</td>\n",
       "      <td>...</td>\n",
       "      <td>...</td>\n",
       "      <td>...</td>\n",
       "      <td>...</td>\n",
       "      <td>...</td>\n",
       "      <td>...</td>\n",
       "      <td>...</td>\n",
       "      <td>...</td>\n",
       "      <td>...</td>\n",
       "      <td>...</td>\n",
       "      <td>...</td>\n",
       "      <td>...</td>\n",
       "      <td>...</td>\n",
       "    </tr>\n",
       "    <tr>\n",
       "      <th>1689560</th>\n",
       "      <td>94.258</td>\n",
       "      <td>205000.0</td>\n",
       "      <td>179.0</td>\n",
       "      <td>0</td>\n",
       "      <td>0</td>\n",
       "      <td>0</td>\n",
       "      <td>1</td>\n",
       "      <td>0</td>\n",
       "      <td>0</td>\n",
       "      <td>0</td>\n",
       "      <td>...</td>\n",
       "      <td>0</td>\n",
       "      <td>0</td>\n",
       "      <td>0</td>\n",
       "      <td>0</td>\n",
       "      <td>1</td>\n",
       "      <td>0</td>\n",
       "      <td>0</td>\n",
       "      <td>0</td>\n",
       "      <td>1</td>\n",
       "      <td>0</td>\n",
       "    </tr>\n",
       "    <tr>\n",
       "      <th>1689561</th>\n",
       "      <td>75.510</td>\n",
       "      <td>435000.0</td>\n",
       "      <td>90.0</td>\n",
       "      <td>0</td>\n",
       "      <td>0</td>\n",
       "      <td>0</td>\n",
       "      <td>1</td>\n",
       "      <td>0</td>\n",
       "      <td>0</td>\n",
       "      <td>1</td>\n",
       "      <td>...</td>\n",
       "      <td>0</td>\n",
       "      <td>0</td>\n",
       "      <td>1</td>\n",
       "      <td>0</td>\n",
       "      <td>0</td>\n",
       "      <td>0</td>\n",
       "      <td>0</td>\n",
       "      <td>0</td>\n",
       "      <td>0</td>\n",
       "      <td>1</td>\n",
       "    </tr>\n",
       "    <tr>\n",
       "      <th>1689563</th>\n",
       "      <td>89.580</td>\n",
       "      <td>265000.0</td>\n",
       "      <td>95.0</td>\n",
       "      <td>0</td>\n",
       "      <td>0</td>\n",
       "      <td>0</td>\n",
       "      <td>1</td>\n",
       "      <td>0</td>\n",
       "      <td>0</td>\n",
       "      <td>0</td>\n",
       "      <td>...</td>\n",
       "      <td>0</td>\n",
       "      <td>0</td>\n",
       "      <td>0</td>\n",
       "      <td>1</td>\n",
       "      <td>0</td>\n",
       "      <td>0</td>\n",
       "      <td>0</td>\n",
       "      <td>0</td>\n",
       "      <td>1</td>\n",
       "      <td>0</td>\n",
       "    </tr>\n",
       "    <tr>\n",
       "      <th>1689566</th>\n",
       "      <td>90.404</td>\n",
       "      <td>395000.0</td>\n",
       "      <td>0.0</td>\n",
       "      <td>0</td>\n",
       "      <td>0</td>\n",
       "      <td>0</td>\n",
       "      <td>1</td>\n",
       "      <td>0</td>\n",
       "      <td>0</td>\n",
       "      <td>0</td>\n",
       "      <td>...</td>\n",
       "      <td>0</td>\n",
       "      <td>0</td>\n",
       "      <td>0</td>\n",
       "      <td>0</td>\n",
       "      <td>1</td>\n",
       "      <td>0</td>\n",
       "      <td>0</td>\n",
       "      <td>0</td>\n",
       "      <td>1</td>\n",
       "      <td>0</td>\n",
       "    </tr>\n",
       "    <tr>\n",
       "      <th>1689567</th>\n",
       "      <td>69.170</td>\n",
       "      <td>485000.0</td>\n",
       "      <td>66.0</td>\n",
       "      <td>0</td>\n",
       "      <td>1</td>\n",
       "      <td>0</td>\n",
       "      <td>0</td>\n",
       "      <td>0</td>\n",
       "      <td>0</td>\n",
       "      <td>0</td>\n",
       "      <td>...</td>\n",
       "      <td>1</td>\n",
       "      <td>0</td>\n",
       "      <td>0</td>\n",
       "      <td>0</td>\n",
       "      <td>0</td>\n",
       "      <td>1</td>\n",
       "      <td>0</td>\n",
       "      <td>0</td>\n",
       "      <td>1</td>\n",
       "      <td>0</td>\n",
       "    </tr>\n",
       "  </tbody>\n",
       "</table>\n",
       "<p>104940 rows × 82 columns</p>\n",
       "</div>"
      ],
      "text/plain": [
       "         combined_loan_to_value_ratio  property_value  income  \\\n",
       "1513977                        44.666        365000.0    94.0   \n",
       "1513980                        97.177        145000.0    40.0   \n",
       "1513981                       103.860        375000.0   190.0   \n",
       "1513986                        71.429        245000.0   173.0   \n",
       "1513990                        98.886        145000.0    50.0   \n",
       "...                               ...             ...     ...   \n",
       "1689560                        94.258        205000.0   179.0   \n",
       "1689561                        75.510        435000.0    90.0   \n",
       "1689563                        89.580        265000.0    95.0   \n",
       "1689566                        90.404        395000.0     0.0   \n",
       "1689567                        69.170        485000.0    66.0   \n",
       "\n",
       "         derived_ethnicity_Ethnicity Not Available  \\\n",
       "1513977                                          0   \n",
       "1513980                                          0   \n",
       "1513981                                          0   \n",
       "1513986                                          0   \n",
       "1513990                                          0   \n",
       "...                                            ...   \n",
       "1689560                                          0   \n",
       "1689561                                          0   \n",
       "1689563                                          0   \n",
       "1689566                                          0   \n",
       "1689567                                          0   \n",
       "\n",
       "         derived_ethnicity_Hispanic or Latino  derived_ethnicity_Joint  \\\n",
       "1513977                                     0                        0   \n",
       "1513980                                     0                        0   \n",
       "1513981                                     0                        0   \n",
       "1513986                                     0                        0   \n",
       "1513990                                     0                        0   \n",
       "...                                       ...                      ...   \n",
       "1689560                                     0                        0   \n",
       "1689561                                     0                        0   \n",
       "1689563                                     0                        0   \n",
       "1689566                                     0                        0   \n",
       "1689567                                     1                        0   \n",
       "\n",
       "         derived_ethnicity_Not Hispanic or Latino  \\\n",
       "1513977                                         1   \n",
       "1513980                                         1   \n",
       "1513981                                         1   \n",
       "1513986                                         1   \n",
       "1513990                                         1   \n",
       "...                                           ...   \n",
       "1689560                                         1   \n",
       "1689561                                         1   \n",
       "1689563                                         1   \n",
       "1689566                                         1   \n",
       "1689567                                         0   \n",
       "\n",
       "         derived_race_2 or more minority races  \\\n",
       "1513977                                      0   \n",
       "1513980                                      0   \n",
       "1513981                                      0   \n",
       "1513986                                      0   \n",
       "1513990                                      0   \n",
       "...                                        ...   \n",
       "1689560                                      0   \n",
       "1689561                                      0   \n",
       "1689563                                      0   \n",
       "1689566                                      0   \n",
       "1689567                                      0   \n",
       "\n",
       "         derived_race_American Indian or Alaska Native  derived_race_Asian  \\\n",
       "1513977                                              0                   0   \n",
       "1513980                                              0                   0   \n",
       "1513981                                              0                   0   \n",
       "1513986                                              0                   0   \n",
       "1513990                                              0                   0   \n",
       "...                                                ...                 ...   \n",
       "1689560                                              0                   0   \n",
       "1689561                                              0                   1   \n",
       "1689563                                              0                   0   \n",
       "1689566                                              0                   0   \n",
       "1689567                                              0                   0   \n",
       "\n",
       "         ...  debt_to_income_ratio_>60%  applicant_age_25-34  \\\n",
       "1513977  ...                          0                    0   \n",
       "1513980  ...                          0                    0   \n",
       "1513981  ...                          1                    0   \n",
       "1513986  ...                          0                    0   \n",
       "1513990  ...                          1                    0   \n",
       "...      ...                        ...                  ...   \n",
       "1689560  ...                          0                    0   \n",
       "1689561  ...                          0                    0   \n",
       "1689563  ...                          0                    0   \n",
       "1689566  ...                          0                    0   \n",
       "1689567  ...                          1                    0   \n",
       "\n",
       "         applicant_age_35-44  applicant_age_45-54  applicant_age_55-64  \\\n",
       "1513977                    0                    0                    0   \n",
       "1513980                    0                    0                    1   \n",
       "1513981                    0                    1                    0   \n",
       "1513986                    0                    1                    0   \n",
       "1513990                    1                    0                    0   \n",
       "...                      ...                  ...                  ...   \n",
       "1689560                    0                    0                    1   \n",
       "1689561                    1                    0                    0   \n",
       "1689563                    0                    1                    0   \n",
       "1689566                    0                    0                    1   \n",
       "1689567                    0                    0                    0   \n",
       "\n",
       "         applicant_age_65-74  applicant_age_<25  applicant_age_>74  \\\n",
       "1513977                    1                  0                  0   \n",
       "1513980                    0                  0                  0   \n",
       "1513981                    0                  0                  0   \n",
       "1513986                    0                  0                  0   \n",
       "1513990                    0                  0                  0   \n",
       "...                      ...                ...                ...   \n",
       "1689560                    0                  0                  0   \n",
       "1689561                    0                  0                  0   \n",
       "1689563                    0                  0                  0   \n",
       "1689566                    0                  0                  0   \n",
       "1689567                    1                  0                  0   \n",
       "\n",
       "         submission_of_application_1  submission_of_application_2  \n",
       "1513977                            1                            0  \n",
       "1513980                            1                            0  \n",
       "1513981                            1                            0  \n",
       "1513986                            1                            0  \n",
       "1513990                            1                            0  \n",
       "...                              ...                          ...  \n",
       "1689560                            1                            0  \n",
       "1689561                            0                            1  \n",
       "1689563                            1                            0  \n",
       "1689566                            1                            0  \n",
       "1689567                            1                            0  \n",
       "\n",
       "[104940 rows x 82 columns]"
      ]
     },
     "execution_count": 4,
     "metadata": {},
     "output_type": "execute_result"
    }
   ],
   "source": [
    "df_2019_Selected"
   ]
  },
  {
   "cell_type": "code",
   "execution_count": 5,
   "metadata": {
    "pycharm": {
     "name": "#%%\n"
    }
   },
   "outputs": [],
   "source": [
    "# fill numeric values with mean and drop null values of dummies\n",
    "df_2019_Selected = df_2019_Selected.dropna()\n",
    "df_2019_Selected = pd.get_dummies(df_2019_Selected)"
   ]
  },
  {
   "cell_type": "code",
   "execution_count": 6,
   "metadata": {
    "pycharm": {
     "name": "#%%\n"
    }
   },
   "outputs": [],
   "source": [
    "df_2018_Selected = df_2018_Selected.fillna(df_2018_Selected.mean(numeric_only=True))\n",
    "df_2018_Selected = df_2018_Selected.dropna()\n",
    "df_2018_Selected = pd.get_dummies(df_2018_Selected)"
   ]
  },
  {
   "cell_type": "code",
   "execution_count": 7,
   "metadata": {
    "pycharm": {
     "name": "#%%\n"
    }
   },
   "outputs": [
    {
     "name": "stdout",
     "output_type": "stream",
     "text": [
      "combined_loan_to_value_ratio                 0\n",
      "property_value                               0\n",
      "income                                       0\n",
      "derived_ethnicity_Ethnicity Not Available    0\n",
      "derived_ethnicity_Hispanic or Latino         0\n",
      "                                            ..\n",
      "applicant_age_65-74                          0\n",
      "applicant_age_<25                            0\n",
      "applicant_age_>74                            0\n",
      "submission_of_application_1                  0\n",
      "submission_of_application_2                  0\n",
      "Length: 82, dtype: int64\n",
      "combined_loan_to_value_ratio                 0\n",
      "property_value                               0\n",
      "income                                       0\n",
      "derived_ethnicity_Ethnicity Not Available    0\n",
      "derived_ethnicity_Hispanic or Latino         0\n",
      "                                            ..\n",
      "applicant_age_65-74                          0\n",
      "applicant_age_<25                            0\n",
      "applicant_age_>74                            0\n",
      "submission_of_application_1                  0\n",
      "submission_of_application_2                  0\n",
      "Length: 82, dtype: int64\n"
     ]
    }
   ],
   "source": [
    "# Our dataset should not have null values now.\n",
    "print(df_2019_Selected.isnull().sum())\n",
    "print(df_2018_Selected.isnull().sum())"
   ]
  },
  {
   "cell_type": "code",
   "execution_count": 8,
   "metadata": {
    "pycharm": {
     "name": "#%%\n"
    }
   },
   "outputs": [
    {
     "name": "stdout",
     "output_type": "stream",
     "text": [
      "We currently have 909967 observations for 2018.\n",
      "We currently have 94726 observations for 2019.\n"
     ]
    }
   ],
   "source": [
    "print(f\"We currently have {df_2018_Selected.shape[0]} observations for 2018.\")\n",
    "print(f\"We currently have {df_2019_Selected.shape[0]} observations for 2019.\")"
   ]
  },
  {
   "cell_type": "code",
   "execution_count": 26,
   "metadata": {},
   "outputs": [],
   "source": [
    "df_2018_Selected.corr()[\"action_taken_1\"].sort_values().to_csv('2018_corr.csv')"
   ]
  },
  {
   "cell_type": "code",
   "execution_count": 25,
   "metadata": {},
   "outputs": [],
   "source": [
    "df_2019_Selected.corr()[\"action_taken_1\"].sort_values().to_csv('2019_corr.csv')"
   ]
  },
  {
   "cell_type": "markdown",
   "metadata": {
    "pycharm": {
     "name": "#%% md\n"
    }
   },
   "source": [
    "## II. Training and Explaining\n",
    "### (a). Split the dataset and normalize input"
   ]
  },
  {
   "cell_type": "code",
   "execution_count": 9,
   "metadata": {
    "pycharm": {
     "name": "#%%\n"
    }
   },
   "outputs": [],
   "source": [
    "from sklearn.model_selection import train_test_split as tr_te_split\n",
    "y_train = df_2018_Selected[\"action_taken_1\"]\n",
    "X_train = df_2018_Selected.drop(columns = [\"action_taken_1\", 'action_taken_3'] )\n",
    "y_test = df_2019_Selected[\"action_taken_1\"]\n",
    "X_test = df_2019_Selected.drop(columns = [\"action_taken_1\", 'action_taken_3'] )\n",
    "ph1, X_test, ph2, y_test = tr_te_split(X_test, y_test, test_size=0.3, random_state=0)\n",
    "del ph1\n",
    "del ph2\n",
    "for col in X_train.columns:\n",
    "    if X_train.dtypes[col] == \"float\":\n",
    "        mean = X_train.mean()[col]\n",
    "        std = X_train.std()[col]\n",
    "        X_train[col] = (X_train[col] - mean) / std\n",
    "        X_test[col] = (X_test[col] - mean) / std\n",
    "import re\n",
    "regex = re.compile(r\"\\[|\\]|<\", re.IGNORECASE)\n",
    "X_train.columns = [regex.sub(\"_\", col) if any(x in str(col) for x in set(('[', ']', '<'))) else col for col in X_train.columns.values]\n",
    "X_test.columns = [regex.sub(\"_\", col) if any(x in str(col) for x in set(('[', ']', '<'))) else col for col in X_test.columns.values]"
   ]
  },
  {
   "cell_type": "code",
   "execution_count": 10,
   "metadata": {
    "pycharm": {
     "name": "#%%\n"
    }
   },
   "outputs": [
    {
     "name": "stdout",
     "output_type": "stream",
     "text": [
      "We currently have 909967 observations for the training set.\n",
      "We currently have 28418 observations for the testing set.\n",
      "We currently have 80 features for the model.\n"
     ]
    }
   ],
   "source": [
    "print(f\"We currently have {X_train.shape[0]} observations for the training set.\")\n",
    "print(f\"We currently have {X_test.shape[0]} observations for the testing set.\")\n",
    "print(f\"We currently have {X_train.shape[1]} features for the model.\")"
   ]
  },
  {
   "cell_type": "code",
   "execution_count": 11,
   "metadata": {
    "pycharm": {
     "name": "#%%\n"
    }
   },
   "outputs": [
    {
     "name": "stdout",
     "output_type": "stream",
     "text": [
      "set()\n",
      "set()\n"
     ]
    }
   ],
   "source": [
    "print(set(X_test.columns)-set(X_train.columns))\n",
    "print(set(X_train.columns)-set(X_test.columns))"
   ]
  },
  {
   "cell_type": "markdown",
   "metadata": {
    "pycharm": {
     "name": "#%% md\n"
    }
   },
   "source": [
    "### (b).(1) Train a logistic regression model"
   ]
  },
  {
   "cell_type": "code",
   "execution_count": 57,
   "metadata": {},
   "outputs": [
    {
     "name": "stdout",
     "output_type": "stream",
     "text": [
      "The score of training set is: 0.9990197446720596\n",
      "The score of testing set is: 0.8625870926877331\n"
     ]
    },
    {
     "data": {
      "image/png": "[encoded data removed]",
      "text/plain": [
       "<Figure size 432x288 with 1 Axes>"
      ]
     },
     "metadata": {
      "needs_background": "light"
     },
     "output_type": "display_data"
    },
    {
     "data": {
      "image/png": "[encoded data removed]",
      "text/plain": [
       "<Figure size 432x288 with 1 Axes>"
      ]
     },
     "metadata": {
      "needs_background": "light"
     },
     "output_type": "display_data"
    }
   ],
   "source": [
    "from sklearn.metrics import plot_roc_curve\n",
    "rfc_original = RandomForestClassifier()\n",
    "rfc_original.fit(X_train, y_train)\n",
    "plot_roc_curve(rfc_original, X_train, y_train)\n",
    "print(\"The score of training set is:\", rfc_original.score(X_train, y_train))\n",
    "plot_roc_curve(rfc_original, X_test, y_test)\n",
    "print(\"The score of testing set is:\", rfc_original.score(X_test, y_test))"
   ]
  },
  {
   "cell_type": "markdown",
   "metadata": {
    "pycharm": {
     "name": "#%% md\n"
    }
   },
   "source": [
    "### (b).(2) Explain a logistic regression model"
   ]
  },
  {
   "cell_type": "code",
   "execution_count": null,
   "metadata": {},
   "outputs": [],
   "source": [
    "# Since we have a training set whose size is 909967*80, it will spend too much computing power when we are doing grid search.\n",
    "# So we select 10% of the training set to do the grid search and use its learned hyperparameter."
   ]
  },
  {
   "cell_type": "code",
   "execution_count": 34,
   "metadata": {},
   "outputs": [],
   "source": [
    "\n",
    "x_train, x_val, Y_train, Y_val = tr_te_split(X_train, y_train, test_size=0.9, random_state=0)\n"
   ]
  },
  {
   "cell_type": "code",
   "execution_count": 58,
   "metadata": {},
   "outputs": [
    {
     "name": "stdout",
     "output_type": "stream",
     "text": [
      "The score of training set is: 0.9997582311310387\n",
      "The score of testing set is: 0.8632556830178056\n"
     ]
    },
    {
     "data": {
      "image/png": "[encoded data removed]",
      "text/plain": [
       "<Figure size 432x288 with 1 Axes>"
      ]
     },
     "metadata": {
      "needs_background": "light"
     },
     "output_type": "display_data"
    },
    {
     "data": {
      "image/png": "[encoded data removed]",
      "text/plain": [
       "<Figure size 432x288 with 1 Axes>"
      ]
     },
     "metadata": {
      "needs_background": "light"
     },
     "output_type": "display_data"
    }
   ],
   "source": [
    "rfc_original.fit(x_train, Y_train)\n",
    "plot_roc_curve(rfc_original, x_train, Y_train)\n",
    "print(\"The score of training set is:\", rfc_original.score(x_train, Y_train))\n",
    "plot_roc_curve(rfc_original, X_test, y_test)\n",
    "print(\"The score of testing set is:\", rfc_original.score(X_test, y_test))"
   ]
  },
  {
   "cell_type": "markdown",
   "metadata": {
    "pycharm": {
     "name": "#%% md\n"
    }
   },
   "source": [
    "### (b).(3) Train a logistic regression model"
   ]
  },
  {
   "cell_type": "code",
   "execution_count": 27,
   "metadata": {
    "pycharm": {
     "name": "#%%\n"
    }
   },
   "outputs": [],
   "source": [
    "from sklearn.ensemble import RandomForestClassifier\n",
    "from sklearn.model_selection import GridSearchCV\n",
    "from sklearn.model_selection import cross_val_score"
   ]
  },
  {
   "cell_type": "code",
   "execution_count": 51,
   "metadata": {},
   "outputs": [],
   "source": [
    "def plot_grid_search(cv_results, grid_param_1, grid_param_2, name_param_1, name_param_2):\n",
    "    # Get Test Scores Mean and std for each grid search\n",
    "    scores_mean = cv_results['mean_test_score']\n",
    "    scores_mean = np.array(scores_mean).reshape(len(grid_param_2),len(grid_param_1))\n",
    "\n",
    "    scores_sd = cv_results['std_test_score']\n",
    "    scores_sd = np.array(scores_sd).reshape(len(grid_param_2),len(grid_param_1))\n",
    "\n",
    "    # Plot Grid search scores\n",
    "    _, ax = plt.subplots()\n",
    "\n",
    "    # Param1 is the X-axis, Param 2 is represented as a different curve (color line)\n",
    "    for idx, val in enumerate(grid_param_2):\n",
    "        ax.plot(grid_param_1, scores_mean[idx,:], '-o', label= name_param_2 + ': ' + str(val))\n",
    "\n",
    "    ax.set_title(\"Grid Search Scores\", fontsize=16)\n",
    "    ax.set_xlabel(name_param_1, fontsize=16)\n",
    "    ax.set_ylabel('CV Average Score', fontsize=16)\n",
    "    ax.legend(loc=\"best\", fontsize=8)\n",
    "    ax.grid('on')\n",
    "\n"
   ]
  },
  {
   "cell_type": "code",
   "execution_count": 28,
   "metadata": {},
   "outputs": [],
   "source": [
    "param_grid = {'n_estimators':np.arange(10, 100, 10)}\n",
    "param_grid = {'max_depth':np.arange(20, 50, 5)}\n",
    "param_grid = {'max_leaf_nodes':np.arange(25,50,5)}\n"
   ]
  },
  {
   "cell_type": "code",
   "execution_count": 29,
   "metadata": {},
   "outputs": [],
   "source": [
    "param_grid = {'criterion':['gini', 'entropy']}\n",
    "param_grid = {'min_samples_split':np.arange(2, 2+10, 1)}\n",
    "param_grid = {'min_samples_leaf':np.arange(1, 1+10, 1)}\n",
    "param_grid = {'max_features':np.arange(5,30,1)}"
   ]
  },
  {
   "cell_type": "code",
   "execution_count": null,
   "metadata": {},
   "outputs": [],
   "source": [
    "# We use sklearn.model_selection.GridSearchCV to do grid search.\n",
    "# Since the limitation of computing power, we select 2 parameters every time.\n",
    "# So we can get a relative accurate result in a short time"
   ]
  },
  {
   "cell_type": "code",
   "execution_count": 37,
   "metadata": {},
   "outputs": [
    {
     "name": "stdout",
     "output_type": "stream",
     "text": [
      "{'max_depth': 20, 'n_estimators': 140}\n",
      "0.8396852815847267\n"
     ]
    }
   ],
   "source": [
    "param_grid = {'n_estimators':np.arange(50, 150, 10),\n",
    "             'max_depth':np.arange(20, 50, 5)}\n",
    "\n",
    "rfc = RandomForestClassifier()\n",
    "GS = GridSearchCV(rfc,param_grid)\n",
    "GS.fit(x_train,Y_train)\n",
    "print(GS.best_params_)\n",
    "print(GS.best_score_)\n",
    "\n"
   ]
  },
  {
   "cell_type": "code",
   "execution_count": 39,
   "metadata": {},
   "outputs": [
    {
     "name": "stdout",
     "output_type": "stream",
     "text": [
      "{'mean_fit_time': array([  5.35960898,   4.98752775,   5.66628089,   6.50706658,\n",
      "         7.36826348,   8.13244085,   8.92246671,   9.71919122,\n",
      "        10.51197228,  11.1637187 ,   4.64305115,   5.49770613,\n",
      "         6.40964637,   7.33465323,   8.28390579,   9.23693118,\n",
      "        10.1572927 ,  11.09530258,  12.0507236 ,  12.98818626,\n",
      "         5.11195464,   6.106778  ,   7.13461976,   8.16829233,\n",
      "         9.16226697,  10.19014859,  11.16561856,  12.2328629 ,\n",
      "        13.21143813,  14.25387635,   5.31581879,   6.40409651,\n",
      "         7.44568276,   8.47271075,   9.56095576,  10.57238617,\n",
      "        11.63763056,  12.6454514 ,  13.79041762, 526.93701892,\n",
      "         5.47443738,   6.53008018,   7.65017886,   8.66236   ,\n",
      "         9.75910988,  10.87911224,  11.86968164,  12.96754727,\n",
      "        14.05305381,  15.2219871 ,   5.47404408,   6.52727671,\n",
      "         7.60191908,   8.69056187,   9.81501837,  10.86651225,\n",
      "        11.96615605,  13.09216876,  14.13444324,  15.38627491]), 'std_fit_time': array([5.30865725e-02, 1.85196887e-01, 1.03728367e-02, 3.45155526e-02,\n",
      "       1.24007287e-01, 3.34525552e-02, 5.89895110e-02, 5.37013522e-02,\n",
      "       2.13306354e-01, 5.13354801e-02, 3.99478315e-02, 3.51884138e-02,\n",
      "       3.90099199e-02, 4.52161535e-02, 7.73721459e-02, 4.72146694e-02,\n",
      "       4.84753852e-02, 5.62650439e-02, 3.87574670e-02, 4.97732058e-02,\n",
      "       3.68355206e-02, 2.04605488e-02, 4.47953604e-02, 3.48061669e-02,\n",
      "       3.91669111e-02, 3.31714624e-02, 4.60254855e-02, 4.84890940e-02,\n",
      "       2.70594518e-02, 6.67091069e-02, 1.01924251e-02, 3.55113971e-02,\n",
      "       6.03333097e-02, 3.01335376e-02, 2.29270517e-02, 3.64677451e-02,\n",
      "       3.63209889e-02, 4.71622318e-02, 5.18923756e-02, 1.01995281e+03,\n",
      "       2.91505776e-02, 2.74444226e-02, 1.12190651e-01, 2.19341070e-02,\n",
      "       4.05845544e-02, 1.29930636e-02, 5.05133221e-02, 5.85769134e-02,\n",
      "       8.66918165e-02, 4.06031519e-02, 1.52313680e-02, 3.49823158e-02,\n",
      "       2.20754488e-02, 3.33324627e-02, 6.07254342e-02, 3.91071274e-02,\n",
      "       7.13100394e-02, 5.00857130e-02, 7.44227165e-02, 6.17482626e-02]), 'mean_score_time': array([0.24625192, 0.22705131, 0.26365566, 0.29926753, 0.33667603,\n",
      "       0.37388082, 0.41089015, 0.44729958, 0.48050842, 0.51671519,\n",
      "       0.2168438 , 0.2589963 , 0.30206547, 0.34228396, 0.38225307,\n",
      "       0.42389832, 0.46451635, 0.50832481, 0.54933429, 0.593543  ,\n",
      "       0.23926926, 0.28627272, 0.33307519, 0.38073392, 0.42629604,\n",
      "       0.47310452, 0.51891723, 0.56572819, 0.61373839, 0.66174674,\n",
      "       0.2518569 , 0.30186768, 0.34988027, 0.39909267, 0.4473022 ,\n",
      "       0.49631062, 0.5447227 , 0.59433413, 0.64554567, 0.74948874,\n",
      "       0.25886087, 0.30846958, 0.358881  , 0.40689111, 0.45926189,\n",
      "       0.50931501, 0.56019678, 0.61112843, 0.65734959, 0.7119606 ,\n",
      "       0.26205888, 0.31186905, 0.36068139, 0.41249323, 0.46330562,\n",
      "       0.51291614, 0.56412892, 0.6155386 , 0.6673521 , 0.72018328]), 'std_score_time': array([0.00160126, 0.00179215, 0.00149861, 0.00291846, 0.00185586,\n",
      "       0.00194001, 0.0015967 , 0.00312606, 0.00149717, 0.00338528,\n",
      "       0.00132439, 0.00168536, 0.00154964, 0.00238705, 0.00354796,\n",
      "       0.00231937, 0.00280283, 0.00331268, 0.00349085, 0.00300999,\n",
      "       0.00278204, 0.00318399, 0.00268396, 0.00294794, 0.00263876,\n",
      "       0.0026085 , 0.00146986, 0.00343956, 0.00427179, 0.00524402,\n",
      "       0.00146998, 0.00204018, 0.0024036 , 0.00253141, 0.00278725,\n",
      "       0.00299459, 0.00326275, 0.00337125, 0.00450018, 0.08376304,\n",
      "       0.00193664, 0.00215448, 0.00204016, 0.00292565, 0.00330827,\n",
      "       0.00278539, 0.00256098, 0.00513383, 0.00421279, 0.00479295,\n",
      "       0.00352235, 0.00203999, 0.00174401, 0.00185493, 0.00386936,\n",
      "       0.00457941, 0.00316012, 0.00480101, 0.00752214, 0.00562285]), 'param_max_depth': masked_array(data=[20, 20, 20, 20, 20, 20, 20, 20, 20, 20, 25, 25, 25, 25,\n",
      "                   25, 25, 25, 25, 25, 25, 30, 30, 30, 30, 30, 30, 30, 30,\n",
      "                   30, 30, 35, 35, 35, 35, 35, 35, 35, 35, 35, 35, 40, 40,\n",
      "                   40, 40, 40, 40, 40, 40, 40, 40, 45, 45, 45, 45, 45, 45,\n",
      "                   45, 45, 45, 45],\n",
      "             mask=[False, False, False, False, False, False, False, False,\n",
      "                   False, False, False, False, False, False, False, False,\n",
      "                   False, False, False, False, False, False, False, False,\n",
      "                   False, False, False, False, False, False, False, False,\n",
      "                   False, False, False, False, False, False, False, False,\n",
      "                   False, False, False, False, False, False, False, False,\n",
      "                   False, False, False, False, False, False, False, False,\n",
      "                   False, False, False, False],\n",
      "       fill_value='?',\n",
      "            dtype=object), 'param_n_estimators': masked_array(data=[50, 60, 70, 80, 90, 100, 110, 120, 130, 140, 50, 60,\n",
      "                   70, 80, 90, 100, 110, 120, 130, 140, 50, 60, 70, 80,\n",
      "                   90, 100, 110, 120, 130, 140, 50, 60, 70, 80, 90, 100,\n",
      "                   110, 120, 130, 140, 50, 60, 70, 80, 90, 100, 110, 120,\n",
      "                   130, 140, 50, 60, 70, 80, 90, 100, 110, 120, 130, 140],\n",
      "             mask=[False, False, False, False, False, False, False, False,\n",
      "                   False, False, False, False, False, False, False, False,\n",
      "                   False, False, False, False, False, False, False, False,\n",
      "                   False, False, False, False, False, False, False, False,\n",
      "                   False, False, False, False, False, False, False, False,\n",
      "                   False, False, False, False, False, False, False, False,\n",
      "                   False, False, False, False, False, False, False, False,\n",
      "                   False, False, False, False],\n",
      "       fill_value='?',\n",
      "            dtype=object), 'params': [{'max_depth': 20, 'n_estimators': 50}, {'max_depth': 20, 'n_estimators': 60}, {'max_depth': 20, 'n_estimators': 70}, {'max_depth': 20, 'n_estimators': 80}, {'max_depth': 20, 'n_estimators': 90}, {'max_depth': 20, 'n_estimators': 100}, {'max_depth': 20, 'n_estimators': 110}, {'max_depth': 20, 'n_estimators': 120}, {'max_depth': 20, 'n_estimators': 130}, {'max_depth': 20, 'n_estimators': 140}, {'max_depth': 25, 'n_estimators': 50}, {'max_depth': 25, 'n_estimators': 60}, {'max_depth': 25, 'n_estimators': 70}, {'max_depth': 25, 'n_estimators': 80}, {'max_depth': 25, 'n_estimators': 90}, {'max_depth': 25, 'n_estimators': 100}, {'max_depth': 25, 'n_estimators': 110}, {'max_depth': 25, 'n_estimators': 120}, {'max_depth': 25, 'n_estimators': 130}, {'max_depth': 25, 'n_estimators': 140}, {'max_depth': 30, 'n_estimators': 50}, {'max_depth': 30, 'n_estimators': 60}, {'max_depth': 30, 'n_estimators': 70}, {'max_depth': 30, 'n_estimators': 80}, {'max_depth': 30, 'n_estimators': 90}, {'max_depth': 30, 'n_estimators': 100}, {'max_depth': 30, 'n_estimators': 110}, {'max_depth': 30, 'n_estimators': 120}, {'max_depth': 30, 'n_estimators': 130}, {'max_depth': 30, 'n_estimators': 140}, {'max_depth': 35, 'n_estimators': 50}, {'max_depth': 35, 'n_estimators': 60}, {'max_depth': 35, 'n_estimators': 70}, {'max_depth': 35, 'n_estimators': 80}, {'max_depth': 35, 'n_estimators': 90}, {'max_depth': 35, 'n_estimators': 100}, {'max_depth': 35, 'n_estimators': 110}, {'max_depth': 35, 'n_estimators': 120}, {'max_depth': 35, 'n_estimators': 130}, {'max_depth': 35, 'n_estimators': 140}, {'max_depth': 40, 'n_estimators': 50}, {'max_depth': 40, 'n_estimators': 60}, {'max_depth': 40, 'n_estimators': 70}, {'max_depth': 40, 'n_estimators': 80}, {'max_depth': 40, 'n_estimators': 90}, {'max_depth': 40, 'n_estimators': 100}, {'max_depth': 40, 'n_estimators': 110}, {'max_depth': 40, 'n_estimators': 120}, {'max_depth': 40, 'n_estimators': 130}, {'max_depth': 40, 'n_estimators': 140}, {'max_depth': 45, 'n_estimators': 50}, {'max_depth': 45, 'n_estimators': 60}, {'max_depth': 45, 'n_estimators': 70}, {'max_depth': 45, 'n_estimators': 80}, {'max_depth': 45, 'n_estimators': 90}, {'max_depth': 45, 'n_estimators': 100}, {'max_depth': 45, 'n_estimators': 110}, {'max_depth': 45, 'n_estimators': 120}, {'max_depth': 45, 'n_estimators': 130}, {'max_depth': 45, 'n_estimators': 140}], 'split0_test_score': array([0.83708791, 0.83791209, 0.83730769, 0.83626374, 0.83741758,\n",
      "       0.83725275, 0.83851648, 0.83752747, 0.83736264, 0.8378022 ,\n",
      "       0.83505495, 0.83664835, 0.83802198, 0.83681319, 0.83675824,\n",
      "       0.83774725, 0.83582418, 0.83785714, 0.83807692, 0.83686813,\n",
      "       0.8339011 , 0.83510989, 0.83521978, 0.83461538, 0.83478022,\n",
      "       0.8367033 , 0.83543956, 0.83686813, 0.83565934, 0.83692308,\n",
      "       0.83478022, 0.83384615, 0.83417582, 0.83483516, 0.83587912,\n",
      "       0.83461538, 0.8356044 , 0.8356044 , 0.83554945, 0.83571429,\n",
      "       0.83043956, 0.83362637, 0.83351648, 0.83412088, 0.83340659,\n",
      "       0.83428571, 0.83478022, 0.83428571, 0.83489011, 0.83406593,\n",
      "       0.83417582, 0.8343956 , 0.83412088, 0.83357143, 0.8339011 ,\n",
      "       0.83335165, 0.83543956, 0.83483516, 0.83428571, 0.83461538]), 'split1_test_score': array([0.84125501, 0.84076048, 0.84103522, 0.84367273, 0.84345294,\n",
      "       0.84202429, 0.8415847 , 0.84312325, 0.84284851, 0.84361778,\n",
      "       0.84213418, 0.84098027, 0.84180449, 0.84152975, 0.84125501,\n",
      "       0.84054069, 0.84191439, 0.84174955, 0.84196934, 0.84240892,\n",
      "       0.83971647, 0.83916699, 0.83839771, 0.83960657, 0.83938678,\n",
      "       0.83949668, 0.84059564, 0.84163965, 0.84076048, 0.83966152,\n",
      "       0.83718886, 0.83652948, 0.83839771, 0.83839771, 0.83823287,\n",
      "       0.83955162, 0.83944173, 0.83850761, 0.83806803, 0.83900214,\n",
      "       0.83554041, 0.83630969, 0.83543052, 0.83592505, 0.83762844,\n",
      "       0.8373537 , 0.83784823, 0.8373537 , 0.83702401, 0.83795813,\n",
      "       0.83559536, 0.83625474, 0.83757349, 0.83696906, 0.83801308,\n",
      "       0.83658443, 0.83839771, 0.83889225, 0.83779329, 0.83795813]), 'split2_test_score': array([0.83581515, 0.83405682, 0.83427661, 0.83669432, 0.83537557,\n",
      "       0.83521073, 0.83680422, 0.83652948, 0.83696906, 0.83619979,\n",
      "       0.83433156, 0.83405682, 0.83471619, 0.83521073, 0.83625474,\n",
      "       0.83548547, 0.83669432, 0.83488104, 0.83515578, 0.83603495,\n",
      "       0.83141931, 0.83328754, 0.83268311, 0.83339744, 0.83202374,\n",
      "       0.83444145, 0.83411176, 0.83444145, 0.83504588, 0.83455135,\n",
      "       0.83103467, 0.83345239, 0.83169405, 0.83251827, 0.83125446,\n",
      "       0.83240837, 0.83400187, 0.83317765, 0.83279301, 0.83273806,\n",
      "       0.8302654 , 0.83119952, 0.83108962, 0.82982581, 0.83268311,\n",
      "       0.83334249, 0.83367218, 0.83213363, 0.83257322, 0.8332326 ,\n",
      "       0.83010055, 0.83081488, 0.82933128, 0.83147426, 0.83196879,\n",
      "       0.8331227 , 0.83207869, 0.83075993, 0.83081488, 0.8331227 ]), 'split3_test_score': array([0.83960657, 0.84196934, 0.84026595, 0.84147481, 0.84141986,\n",
      "       0.84043079, 0.84087038, 0.84103522, 0.84141986, 0.84109017,\n",
      "       0.84043079, 0.84037584, 0.83878235, 0.84081543, 0.83927688,\n",
      "       0.84087038, 0.84114512, 0.84087038, 0.84114512, 0.84147481,\n",
      "       0.8387274 , 0.83911204, 0.8388373 , 0.83922194, 0.83850761,\n",
      "       0.83856256, 0.83988131, 0.83823287, 0.83988131, 0.83960657,\n",
      "       0.83576021, 0.83718886, 0.83856256, 0.83663938, 0.83674927,\n",
      "       0.83768339, 0.83795813, 0.83889225, 0.83779329, 0.83867245,\n",
      "       0.83411176, 0.83499093, 0.83652948, 0.83823287, 0.83674927,\n",
      "       0.83641958, 0.83565031, 0.83790318, 0.8373537 , 0.83784823,\n",
      "       0.83455135, 0.83400187, 0.83422166, 0.83614484, 0.83554041,\n",
      "       0.83751854, 0.83718886, 0.8372438 , 0.83773834, 0.83806803]), 'split4_test_score': array([0.83784823, 0.83878235, 0.83850761, 0.83834277, 0.83817792,\n",
      "       0.83856256, 0.83861751, 0.8374636 , 0.83916699, 0.83971647,\n",
      "       0.83674927, 0.8387274 , 0.83933183, 0.8388373 , 0.83845266,\n",
      "       0.83916699, 0.8388373 , 0.83971647, 0.83905709, 0.83856256,\n",
      "       0.83740865, 0.8372438 , 0.83812297, 0.83850761, 0.83768339,\n",
      "       0.83922194, 0.83955162, 0.83806803, 0.83955162, 0.83889225,\n",
      "       0.83526567, 0.83845266, 0.83702401, 0.83625474, 0.83933183,\n",
      "       0.83773834, 0.83795813, 0.83894719, 0.83823287, 0.8387274 ,\n",
      "       0.83636464, 0.83559536, 0.83658443, 0.8372438 , 0.83762844,\n",
      "       0.83663938, 0.83652948, 0.83751854, 0.83955162, 0.83900214,\n",
      "       0.83493599, 0.8343865 , 0.83510083, 0.83570526, 0.83598   ,\n",
      "       0.83779329, 0.83543052, 0.83806803, 0.83834277, 0.83477114]), 'mean_test_score': array([0.83832258, 0.83869622, 0.83827862, 0.83928967, 0.83916877,\n",
      "       0.83869622, 0.83927866, 0.8391358 , 0.83955341, 0.83968528,\n",
      "       0.83774015, 0.83815774, 0.83853137, 0.83864128, 0.83839951,\n",
      "       0.83876215, 0.83888306, 0.83901491, 0.83908085, 0.83906987,\n",
      "       0.83623459, 0.83678405, 0.83665218, 0.83706979, 0.83647635,\n",
      "       0.83768518, 0.83791598, 0.83785003, 0.83817973, 0.83792695,\n",
      "       0.83480593, 0.83589391, 0.83597083, 0.83572905, 0.83628951,\n",
      "       0.83639942, 0.83699285, 0.83702582, 0.83648733, 0.83697087,\n",
      "       0.83334435, 0.83434437, 0.83463011, 0.83506968, 0.83561917,\n",
      "       0.83560817, 0.83569608, 0.83583896, 0.83627853, 0.83642141,\n",
      "       0.83387182, 0.83397072, 0.83406963, 0.83477297, 0.83508068,\n",
      "       0.83567412, 0.83570707, 0.83595983, 0.835795  , 0.83570708]), 'std_test_score': array([0.0019123 , 0.00272473, 0.00238996, 0.00285569, 0.00289338,\n",
      "       0.00238054, 0.00173161, 0.00251728, 0.00227899, 0.00257425,\n",
      "       0.00304492, 0.00254193, 0.00229051, 0.00237568, 0.00180113,\n",
      "       0.00197678, 0.00238559, 0.00244305, 0.00240912, 0.00249995,\n",
      "       0.0031096 , 0.00229511, 0.00235755, 0.00255517, 0.00271132,\n",
      "       0.00189202, 0.00262004, 0.00232971, 0.00234994, 0.00195776,\n",
      "       0.00205053, 0.00193816, 0.00265439, 0.00196647, 0.00278438,\n",
      "       0.00254907, 0.00193568, 0.0022891 , 0.00208704, 0.00243321,\n",
      "       0.00254761, 0.00180284, 0.00209011, 0.00296184, 0.00213857,\n",
      "       0.00152649, 0.00143272, 0.00225914, 0.00236989, 0.00231406,\n",
      "       0.00194318, 0.00176241, 0.00267649, 0.00199496, 0.00203442,\n",
      "       0.00203101, 0.002133  , 0.00293244, 0.00287543, 0.00196917]), 'rank_test_score': array([17, 13, 18,  3,  5, 12,  4,  6,  2,  1, 24, 20, 15, 14, 16, 11, 10,\n",
      "        9,  7,  8, 38, 30, 31, 26, 33, 25, 22, 23, 19, 21, 53, 41, 39, 44,\n",
      "       36, 35, 28, 27, 32, 29, 60, 56, 55, 52, 49, 50, 47, 42, 37, 34, 59,\n",
      "       58, 57, 54, 51, 48, 46, 40, 43, 45])}\n"
     ]
    }
   ],
   "source": [
    "print(GS.cv_results_)\n",
    "\n"
   ]
  },
  {
   "cell_type": "code",
   "execution_count": 43,
   "metadata": {},
   "outputs": [
    {
     "data": {
      "image/png": "[encoded data removed]",
      "text/plain": [
       "<Figure size 432x288 with 1 Axes>"
      ]
     },
     "metadata": {
      "needs_background": "light"
     },
     "output_type": "display_data"
    }
   ],
   "source": [
    "n_estimators = np.arange(50, 150, 10)\n",
    "max_depth = np.arange(20, 50, 5)\n",
    "plot_grid_search(GS.cv_results_, n_estimators, max_depth, 'N Estimators', 'Max Depth')"
   ]
  },
  {
   "cell_type": "code",
   "execution_count": null,
   "metadata": {},
   "outputs": [],
   "source": [
    "# The previous result shows that \"n_estimators\" should greater than 150 and \"max_depth\" should smaller than 20."
   ]
  },
  {
   "cell_type": "code",
   "execution_count": 45,
   "metadata": {},
   "outputs": [
    {
     "name": "stdout",
     "output_type": "stream",
     "text": [
      "{'max_depth': 17, 'n_estimators': 200}\n",
      "0.8390808539776063\n"
     ]
    }
   ],
   "source": [
    "param_grid = {'n_estimators':np.arange(150, 501, 50),\n",
    "             'max_depth':np.arange(5, 21, 3)}\n",
    "\n",
    "rfc = RandomForestClassifier()\n",
    "GS = GridSearchCV(rfc,param_grid)\n",
    "GS.fit(x_train,Y_train)\n",
    "print(GS.best_params_)\n",
    "print(GS.best_score_)"
   ]
  },
  {
   "cell_type": "code",
   "execution_count": 52,
   "metadata": {},
   "outputs": [
    {
     "data": {
      "image/png": "[encoded data removed]",
      "text/plain": [
       "<Figure size 432x288 with 1 Axes>"
      ]
     },
     "metadata": {
      "needs_background": "light"
     },
     "output_type": "display_data"
    }
   ],
   "source": [
    "n_estimators = np.arange(150, 501, 50)\n",
    "max_depth = np.arange(5, 21, 3)\n",
    "plot_grid_search(GS.cv_results_, n_estimators, max_depth, 'N Estimators', 'Max Depth')"
   ]
  },
  {
   "cell_type": "code",
   "execution_count": null,
   "metadata": {},
   "outputs": [],
   "source": [
    "# The previous result shows that \"n_estimators\" should be 200 and \"max_depth\" should be 20."
   ]
  },
  {
   "cell_type": "code",
   "execution_count": 54,
   "metadata": {},
   "outputs": [
    {
     "name": "stdout",
     "output_type": "stream",
     "text": [
      "{'criterion': 'gini', 'max_leaf_nodes': 500}\n",
      "0.8365752332726892\n"
     ]
    }
   ],
   "source": [
    "param_grid = {'max_leaf_nodes':np.arange(100,501,100),\n",
    "             'criterion':['gini', 'entropy']}\n",
    "\n",
    "rfc2 = RandomForestClassifier(n_estimators=200, max_depth=20)\n",
    "GS2 = GridSearchCV(rfc2,param_grid)\n",
    "GS2.fit(x_train,Y_train)\n",
    "print(GS2.best_params_)\n",
    "print(GS2.best_score_)\n"
   ]
  },
  {
   "cell_type": "code",
   "execution_count": 55,
   "metadata": {},
   "outputs": [
    {
     "data": {
      "image/png": "[encoded data removed]",
      "text/plain": [
       "<Figure size 432x288 with 1 Axes>"
      ]
     },
     "metadata": {
      "needs_background": "light"
     },
     "output_type": "display_data"
    }
   ],
   "source": [
    "max_leaf_nodes = np.arange(100,501,100)\n",
    "criterion = ['gini', 'entropy']\n",
    "plot_grid_search(GS2.cv_results_, max_leaf_nodes, criterion, 'Max Leaf Nodes', 'Criterion')"
   ]
  },
  {
   "cell_type": "code",
   "execution_count": 60,
   "metadata": {},
   "outputs": [
    {
     "name": "stdout",
     "output_type": "stream",
     "text": [
      "{'max_features': 'sqrt', 'min_samples_split': 16}\n",
      "0.8401468272921649\n"
     ]
    }
   ],
   "source": [
    "# Since the score keeps increasing as max_leaf_nodes keeps increasing, we assume unlimited max_leaf_nodes will be a good choice.\n",
    "param_grid = {'min_samples_split':np.arange(2, 20, 2),\n",
    "             'max_features':[\"sqrt\", \"log2\"]}\n",
    "rfc3 = RandomForestClassifier(n_estimators=200, max_depth=20, criterion='gini')\n",
    "rfc3 = RandomForestClassifier(n_estimators=200, max_depth=20, criterion='gini')\n",
    "GS3 = GridSearchCV(rfc2,param_grid)\n",
    "GS3.fit(x_train,Y_train)\n",
    "print(GS3.best_params_)\n",
    "print(GS3.best_score_)"
   ]
  },
  {
   "cell_type": "code",
   "execution_count": 61,
   "metadata": {},
   "outputs": [
    {
     "data": {
      "image/png": "[encoded data removed]",
      "text/plain": [
       "<Figure size 432x288 with 1 Axes>"
      ]
     },
     "metadata": {
      "needs_background": "light"
     },
     "output_type": "display_data"
    }
   ],
   "source": [
    "min_samples_split = np.arange(2, 20, 2)\n",
    "max_features = [\"sqrt\", \"log2\"]\n",
    "plot_grid_search(GS3.cv_results_, min_samples_split, max_features, 'Min Samples Split', 'Max Features')"
   ]
  },
  {
   "cell_type": "code",
   "execution_count": 63,
   "metadata": {},
   "outputs": [
    {
     "name": "stdout",
     "output_type": "stream",
     "text": [
      "The score of training set is: 0.8563673128489164\n",
      "The score of testing set is: 0.8716658455908227\n"
     ]
    },
    {
     "data": {
      "image/png": "[encoded data removed]",
      "text/plain": [
       "<Figure size 432x288 with 1 Axes>"
      ]
     },
     "metadata": {
      "needs_background": "light"
     },
     "output_type": "display_data"
    },
    {
     "data": {
      "image/png": "[encoded data removed]",
      "text/plain": [
       "<Figure size 432x288 with 1 Axes>"
      ]
     },
     "metadata": {
      "needs_background": "light"
     },
     "output_type": "display_data"
    }
   ],
   "source": [
    "rfc4 = RandomForestClassifier(n_estimators=200, max_depth=20, criterion='gini', max_features = \"sqrt\", min_samples_split = 16 )\n",
    "rfc4.fit(X_train, y_train)\n",
    "plot_roc_curve(rfc4, X_train, y_train)\n",
    "print(\"The score of training set is:\", rfc4.score(x_train, Y_train))\n",
    "plot_roc_curve(rfc4, X_test, y_test)\n",
    "print(\"The score of testing set is:\", rfc4.score(X_test, y_test))"
   ]
  }
 ],
 "metadata": {
  "kernelspec": {
   "display_name": "Python 3",
   "language": "python",
   "name": "python3"
  },
  "language_info": {
   "codemirror_mode": {
    "name": "ipython",
    "version": 3
   },
   "file_extension": ".py",
   "mimetype": "text/x-python",
   "name": "python",
   "nbconvert_exporter": "python",
   "pygments_lexer": "ipython3",
   "version": "3.9.1"
  }
 },
 "nbformat": 4,
 "nbformat_minor": 1
}
